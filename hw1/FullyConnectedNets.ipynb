{
 "cells": [
  {
   "cell_type": "markdown",
   "metadata": {
    "id": "BtMNN3c-PdkU"
   },
   "source": [
    "# Setup Environment\n",
    "\n",
    "If you are working on this assignment using Google Colab, please execute the codes below.\n",
    "\n",
    "Alternatively, you can also do this assignment using a local anaconda environment (or a Python virtualenv). Please clone the GitHub repo by running `git clone https://github.com/gonglinyuan/cs182hw1.git` and refer to `README.md` for further details."
   ]
  },
  {
   "cell_type": "code",
   "execution_count": 1,
   "metadata": {
    "colab": {
     "base_uri": "https://localhost:8080/"
    },
    "id": "4vjm9qB3-yIM",
    "outputId": "a321a1de-30ad-4529-80ba-4798cb294550"
   },
   "outputs": [
    {
     "name": "stdout",
     "output_type": "stream",
     "text": [
      "Mounted at /content/gdrive\n"
     ]
    }
   ],
   "source": [
    "#@title Mount your Google Drive\n",
    "\n",
    "import os\n",
    "from google.colab import drive\n",
    "drive.mount('/content/gdrive')"
   ]
  },
  {
   "cell_type": "code",
   "execution_count": 2,
   "metadata": {
    "id": "1O6fSV0o_COV"
   },
   "outputs": [],
   "source": [
    "#@title Set up mount symlink\n",
    "\n",
    "DRIVE_PATH = '/content/gdrive/My\\ Drive/cs182hw1_sp23'\n",
    "DRIVE_PYTHON_PATH = DRIVE_PATH.replace('\\\\', '')\n",
    "if not os.path.exists(DRIVE_PYTHON_PATH):\n",
    "  %mkdir $DRIVE_PATH\n",
    "\n",
    "## the space in `My Drive` causes some issues,\n",
    "## make a symlink to avoid this\n",
    "SYM_PATH = '/content/cs285hw1'\n",
    "if not os.path.exists(SYM_PATH):\n",
    "  !ln -s $DRIVE_PATH $SYM_PATH"
   ]
  },
  {
   "cell_type": "code",
   "execution_count": 3,
   "metadata": {
    "colab": {
     "base_uri": "https://localhost:8080/"
    },
    "id": "t1vxtHpWLm2h",
    "outputId": "cbb574c3-02ec-4036-8cd4-eb93f70182d7"
   },
   "outputs": [
    {
     "name": "stdout",
     "output_type": "stream",
     "text": [
      "Looking in indexes: https://pypi.org/simple, https://us-python.pkg.dev/colab-wheels/public/simple/\n",
      "Requirement already satisfied: numpy==1.21.6 in /usr/local/lib/python3.8/dist-packages (1.21.6)\n",
      "Requirement already satisfied: imageio==2.9.0 in /usr/local/lib/python3.8/dist-packages (2.9.0)\n",
      "Requirement already satisfied: matplotlib==3.2.2 in /usr/local/lib/python3.8/dist-packages (3.2.2)\n",
      "Requirement already satisfied: pillow in /usr/local/lib/python3.8/dist-packages (from imageio==2.9.0) (7.1.2)\n",
      "Requirement already satisfied: python-dateutil>=2.1 in /usr/local/lib/python3.8/dist-packages (from matplotlib==3.2.2) (2.8.2)\n",
      "Requirement already satisfied: kiwisolver>=1.0.1 in /usr/local/lib/python3.8/dist-packages (from matplotlib==3.2.2) (1.4.4)\n",
      "Requirement already satisfied: pyparsing!=2.0.4,!=2.1.2,!=2.1.6,>=2.0.1 in /usr/local/lib/python3.8/dist-packages (from matplotlib==3.2.2) (3.0.9)\n",
      "Requirement already satisfied: cycler>=0.10 in /usr/local/lib/python3.8/dist-packages (from matplotlib==3.2.2) (0.11.0)\n",
      "Requirement already satisfied: six>=1.5 in /usr/local/lib/python3.8/dist-packages (from python-dateutil>=2.1->matplotlib==3.2.2) (1.15.0)\n"
     ]
    }
   ],
   "source": [
    "#@title Install dependencies\n",
    "\n",
    "!pip install numpy==1.21.6 imageio==2.9.0 matplotlib==3.2.2"
   ]
  },
  {
   "cell_type": "code",
   "execution_count": 4,
   "metadata": {
    "colab": {
     "base_uri": "https://localhost:8080/"
    },
    "id": "Y91O-kNH_Voh",
    "outputId": "9e7dda41-b51c-47db-935b-da8d69311686"
   },
   "outputs": [
    {
     "name": "stdout",
     "output_type": "stream",
     "text": [
      "/content/gdrive/My Drive/cs182hw1_sp23\n",
      "Cloning into 'cs182hw1'...\n",
      "remote: Enumerating objects: 22, done.\u001b[K\n",
      "remote: Counting objects: 100% (22/22), done.\u001b[K\n",
      "remote: Compressing objects: 100% (17/17), done.\u001b[K\n",
      "remote: Total 22 (delta 2), reused 22 (delta 2), pack-reused 0\u001b[K\n",
      "Unpacking objects: 100% (22/22), 19.10 KiB | 35.00 KiB/s, done.\n",
      "/content/gdrive/My Drive/cs182hw1_sp23/cs182hw1\n"
     ]
    }
   ],
   "source": [
    "#@title Clone homework repo\n",
    "\n",
    "%cd $SYM_PATH\n",
    "if not os.path.exists(\"cs182hw1\"):\n",
    "  !git clone https://github.com/gonglinyuan/cs182hw1.git\n",
    "%cd cs182hw1"
   ]
  },
  {
   "cell_type": "code",
   "execution_count": 5,
   "metadata": {
    "colab": {
     "base_uri": "https://localhost:8080/"
    },
    "id": "VySbxDdnB6Ng",
    "outputId": "d524b4e0-926b-419b-fd65-1930f46a3b30"
   },
   "outputs": [
    {
     "name": "stdout",
     "output_type": "stream",
     "text": [
      "/content/gdrive/My Drive/cs182hw1_sp23/cs182hw1/deeplearning/datasets\n",
      "--2023-01-26 22:26:41--  http://www.cs.toronto.edu/~kriz/cifar-10-python.tar.gz\n",
      "Resolving www.cs.toronto.edu (www.cs.toronto.edu)... 128.100.3.30\n",
      "Connecting to www.cs.toronto.edu (www.cs.toronto.edu)|128.100.3.30|:80... connected.\n",
      "HTTP request sent, awaiting response... 200 OK\n",
      "Length: 170498071 (163M) [application/x-gzip]\n",
      "Saving to: ‘cifar-10-python.tar.gz’\n",
      "\n",
      "cifar-10-python.tar 100%[===================>] 162.60M  51.3MB/s    in 3.4s    \n",
      "\n",
      "2023-01-26 22:26:44 (47.5 MB/s) - ‘cifar-10-python.tar.gz’ saved [170498071/170498071]\n",
      "\n",
      "cifar-10-batches-py/\n",
      "cifar-10-batches-py/data_batch_4\n",
      "cifar-10-batches-py/readme.html\n",
      "cifar-10-batches-py/test_batch\n",
      "cifar-10-batches-py/data_batch_3\n",
      "cifar-10-batches-py/batches.meta\n",
      "cifar-10-batches-py/data_batch_2\n",
      "cifar-10-batches-py/data_batch_5\n",
      "cifar-10-batches-py/data_batch_1\n",
      "/content/gdrive/My Drive/cs182hw1_sp23/cs182hw1\n"
     ]
    }
   ],
   "source": [
    "#@title Download datasets\n",
    "\n",
    "%cd deeplearning/datasets/\n",
    "!bash ./get_datasets.sh\n",
    "%cd ../.."
   ]
  },
  {
   "cell_type": "code",
   "execution_count": 1,
   "metadata": {
    "id": "pUR1MUuVA4Cs"
   },
   "outputs": [],
   "source": [
    "#@title Configure Jupyter Notebook\n",
    "\n",
    "import matplotlib\n",
    "%matplotlib inline\n",
    "%load_ext autoreload\n",
    "%autoreload 2"
   ]
  },
  {
   "cell_type": "markdown",
   "metadata": {
    "id": "YybdAopk-mvQ"
   },
   "source": [
    "# Fully-Connected Neural Nets\n",
    "\n",
    "In this notebook we will implement fully-connected networks using a modular approach. For each layer we will implement a `forward` and a `backward` function. The `forward` function will receive inputs, weights, and other parameters and will return both an output and a `cache` object storing data needed for the backward pass, like this:\n",
    "\n",
    "```python\n",
    "def layer_forward(x, w):\n",
    "  \"\"\" Receive inputs x and weights w \"\"\"\n",
    "  # Do some computations ...\n",
    "  z = # ... some intermediate value\n",
    "  # Do some more computations ...\n",
    "  out = # the output\n",
    "   \n",
    "  cache = (x, w, z, out) # Values we need to compute gradients\n",
    "  \n",
    "  return out, cache\n",
    "```\n",
    "\n",
    "The backward pass will receive upstream derivatives and the `cache` object, and will return gradients with respect to the inputs and weights, like this:\n",
    "\n",
    "```python\n",
    "def layer_backward(dout, cache):\n",
    "  \"\"\"\n",
    "  Receive derivative of loss with respect to outputs and cache,\n",
    "  and compute derivative with respect to inputs.\n",
    "  \"\"\"\n",
    "  # Unpack cache values\n",
    "  x, w, z, out = cache\n",
    "  \n",
    "  # Use values in cache to compute derivatives\n",
    "  dx = # Derivative of loss with respect to x\n",
    "  dw = # Derivative of loss with respect to w\n",
    "  \n",
    "  return dx, dw\n",
    "```\n",
    "\n",
    "After implementing a bunch of layers this way, we will be able to easily combine them to build classifiers with different architectures."
   ]
  },
  {
   "cell_type": "code",
   "execution_count": 2,
   "metadata": {
    "id": "5rY3whPq-mvT"
   },
   "outputs": [],
   "source": [
    "# As usual, a bit of setup\n",
    "\n",
    "import time\n",
    "import numpy as np\n",
    "import matplotlib.pyplot as plt\n",
    "from deeplearning.classifiers.fc_net import *\n",
    "from deeplearning.data_utils import get_CIFAR10_data\n",
    "from deeplearning.gradient_check import eval_numerical_gradient, eval_numerical_gradient_array\n",
    "from deeplearning.solver import Solver\n",
    "\n",
    "plt.rcParams['figure.figsize'] = (10.0, 8.0) # set default size of plots\n",
    "plt.rcParams['image.interpolation'] = 'nearest'\n",
    "plt.rcParams['image.cmap'] = 'gray'\n",
    "\n",
    "# for auto-reloading external modules\n",
    "# see http://stackoverflow.com/questions/1907993/autoreload-of-modules-in-ipython\n",
    "\n",
    "def rel_error(x, y):\n",
    "    \"\"\" returns relative error \"\"\"\n",
    "    return np.max(np.abs(x - y) / (np.maximum(1e-8, np.abs(x) + np.abs(y))))"
   ]
  },
  {
   "cell_type": "code",
   "execution_count": 3,
   "metadata": {
    "colab": {
     "base_uri": "https://localhost:8080/"
    },
    "id": "Hx39aHp5-mvU",
    "outputId": "c308158c-16de-40cc-dfe9-ec35959f7de1"
   },
   "outputs": [
    {
     "name": "stdout",
     "output_type": "stream",
     "text": [
      "deeplearning/datasets/cifar-10-batches-py/data_batch_1\n",
      "deeplearning/datasets/cifar-10-batches-py/data_batch_2\n",
      "deeplearning/datasets/cifar-10-batches-py/data_batch_3\n",
      "deeplearning/datasets/cifar-10-batches-py/data_batch_4\n",
      "deeplearning/datasets/cifar-10-batches-py/data_batch_5\n",
      "deeplearning/datasets/cifar-10-batches-py/test_batch\n",
      "X_train:  (49000, 3, 32, 32)\n",
      "y_train:  (49000,)\n",
      "X_val:  (1000, 3, 32, 32)\n",
      "y_val:  (1000,)\n",
      "X_test:  (1000, 3, 32, 32)\n",
      "y_test:  (1000,)\n"
     ]
    }
   ],
   "source": [
    "# Lddoad the (preprocessed) CIFAR10 data.\n",
    "\n",
    "data = get_CIFAR10_data()\n",
    "for k, v in data.items():\n",
    "    print('%s: ' % k, v.shape)"
   ]
  },
  {
   "cell_type": "markdown",
   "metadata": {
    "id": "YxQO9UBq-mvU"
   },
   "source": [
    "# Affine layer: forward\n",
    "Open the file `deeplearning/layers.py` and implement the `affine_forward` function.\n",
    "\n",
    "Once you are done you can test your implementaion by running the following:"
   ]
  },
  {
   "cell_type": "code",
   "execution_count": 4,
   "metadata": {
    "colab": {
     "base_uri": "https://localhost:8080/"
    },
    "id": "wKjg1INq-mvU",
    "outputId": "1111171e-bfd5-4ba7-9833-dd0d9178e872"
   },
   "outputs": [
    {
     "name": "stdout",
     "output_type": "stream",
     "text": [
      "Testing affine_forward function:\n",
      "difference:  9.769849468192957e-10\n"
     ]
    }
   ],
   "source": [
    "# Test the affine_forward function\n",
    "\n",
    "num_inputs = 2\n",
    "input_shape = (4, 5, 6)\n",
    "output_dim = 3\n",
    "\n",
    "input_size = num_inputs * np.prod(input_shape)\n",
    "weight_size = output_dim * np.prod(input_shape)\n",
    "\n",
    "x = np.linspace(-0.1, 0.5, num=input_size).reshape(num_inputs, *input_shape)\n",
    "w = np.linspace(-0.2, 0.3, num=weight_size).reshape(np.prod(input_shape), output_dim)\n",
    "b = np.linspace(-0.3, 0.1, num=output_dim)\n",
    "\n",
    "out, _ = affine_forward(x, w, b)\n",
    "correct_out = np.array([[ 1.49834967,  1.70660132,  1.91485297],\n",
    "                        [ 3.25553199,  3.5141327,   3.77273342]])\n",
    "\n",
    "# Compare your output with ours. The error should be around 1e-9.\n",
    "print('Testing affine_forward function:')\n",
    "print('difference: ', rel_error(out, correct_out))"
   ]
  },
  {
   "cell_type": "markdown",
   "metadata": {
    "id": "SZmNs2sS-mvU"
   },
   "source": [
    "# Affine layer: backward\n",
    "Now implement the `affine_backward` function and test your implementation using numeric gradient checking."
   ]
  },
  {
   "cell_type": "code",
   "execution_count": 5,
   "metadata": {
    "colab": {
     "base_uri": "https://localhost:8080/"
    },
    "id": "NSlcsBNY-mvV",
    "outputId": "35dd9b64-8bcd-4e27-9859-a8b49de1a2e7"
   },
   "outputs": [
    {
     "name": "stdout",
     "output_type": "stream",
     "text": [
      "Testing affine_backward function:\n",
      "dx error:  1.156751276687641e-09\n",
      "dw error:  2.5604262691169576e-10\n",
      "db error:  1.4937902156909363e-11\n"
     ]
    }
   ],
   "source": [
    "# Test the affine_backward function\n",
    "\n",
    "x = np.random.randn(10, 2, 3)\n",
    "w = np.random.randn(6, 5)\n",
    "b = np.random.randn(5)\n",
    "dout = np.random.randn(10, 5)\n",
    "\n",
    "dx_num = eval_numerical_gradient_array(lambda x: affine_forward(x, w, b)[0], x, dout)\n",
    "dw_num = eval_numerical_gradient_array(lambda w: affine_forward(x, w, b)[0], w, dout)\n",
    "db_num = eval_numerical_gradient_array(lambda b: affine_forward(x, w, b)[0], b, dout)\n",
    "\n",
    "_, cache = affine_forward(x, w, b)\n",
    "dx, dw, db = affine_backward(dout, cache)\n",
    "# The error should be around 1e-10\n",
    "print('Testing affine_backward function:')\n",
    "print('dx error: ', rel_error(dx_num, dx))\n",
    "print('dw error: ', rel_error(dw_num, dw))\n",
    "print('db error: ', rel_error(db_num, db))"
   ]
  },
  {
   "cell_type": "markdown",
   "metadata": {
    "id": "vzIyC-vm-mvV"
   },
   "source": [
    "# ReLU layer: forward\n",
    "Implement the forward pass for the ReLU activation function in the `relu_forward` function and test your implementation using the following:"
   ]
  },
  {
   "cell_type": "code",
   "execution_count": 6,
   "metadata": {
    "colab": {
     "base_uri": "https://localhost:8080/"
    },
    "id": "FVp_m32X-mvW",
    "outputId": "6d485d62-a0a7-4b66-cdb3-b04ca1dd6407"
   },
   "outputs": [
    {
     "name": "stdout",
     "output_type": "stream",
     "text": [
      "Testing relu_forward function:\n",
      "difference:  4.999999798022158e-08\n"
     ]
    }
   ],
   "source": [
    "# Test the relu_forward function\n",
    "\n",
    "x = np.linspace(-0.5, 0.5, num=12).reshape(3, 4)\n",
    "\n",
    "out, _ = relu_forward(x)\n",
    "correct_out = np.array([[ 0.,          0.,          0.,          0.,        ],\n",
    "                        [ 0.,          0.,          0.04545455,  0.13636364,],\n",
    "                        [ 0.22727273,  0.31818182,  0.40909091,  0.5,       ]])\n",
    "\n",
    "# Compare your output with ours. The error should be around 1e-8\n",
    "print('Testing relu_forward function:')\n",
    "print('difference: ', rel_error(out, correct_out))"
   ]
  },
  {
   "cell_type": "markdown",
   "metadata": {
    "id": "0lFnqSVx-mvW"
   },
   "source": [
    "# ReLU layer: backward\n",
    "Now implement the backward pass for the ReLU activation function in the `relu_backward` function and test your implementation using numeric gradient checking. Note that the ReLU activation is not differentiable at 0, but typically we don't worry about this and simply assign either 0 or 1 as the derivative by convention."
   ]
  },
  {
   "cell_type": "code",
   "execution_count": 7,
   "metadata": {
    "colab": {
     "base_uri": "https://localhost:8080/"
    },
    "id": "HO4dcVkF-mvW",
    "outputId": "ef38a98e-6acf-406d-8326-5f5c5321fedf"
   },
   "outputs": [
    {
     "name": "stdout",
     "output_type": "stream",
     "text": [
      "Testing relu_backward function:\n",
      "dx error:  3.275620696205012e-12\n"
     ]
    }
   ],
   "source": [
    "x = np.random.randn(10, 10)\n",
    "dout = np.random.randn(*x.shape)\n",
    "\n",
    "dx_num = eval_numerical_gradient_array(lambda x: relu_forward(x)[0], x, dout)\n",
    "\n",
    "_, cache = relu_forward(x)\n",
    "dx = relu_backward(dout, cache)\n",
    "\n",
    "# The error should be around 1e-12\n",
    "print('Testing relu_backward function:')\n",
    "print('dx error: ', rel_error(dx_num, dx))"
   ]
  },
  {
   "cell_type": "markdown",
   "metadata": {
    "id": "FMGbkcFm-mvX"
   },
   "source": [
    "# \"Sandwich\" layers\n",
    "There are some common patterns of layers that are frequently used in neural nets. For example, affine layers are frequently followed by a ReLU nonlinearity. To make these common patterns easy, we define several convenience layers in the file `deeplearning/layer_utils.py`.\n",
    "\n",
    "For now take a look at the `affine_relu_forward` and `affine_relu_backward` functions, and run the following to numerically gradient check the backward pass:"
   ]
  },
  {
   "cell_type": "code",
   "execution_count": 8,
   "metadata": {
    "colab": {
     "base_uri": "https://localhost:8080/"
    },
    "id": "W5helswW-mvX",
    "outputId": "1c3bc805-30b0-4f76-9853-c9f7e4772079"
   },
   "outputs": [
    {
     "name": "stdout",
     "output_type": "stream",
     "text": [
      "Testing affine_relu_forward:\n",
      "dx error:  1.3782223280334265e-10\n",
      "dw error:  6.220332357656127e-10\n",
      "db error:  7.826695793472037e-12\n"
     ]
    }
   ],
   "source": [
    "from deeplearning.layer_utils import affine_relu_forward, affine_relu_backward\n",
    "\n",
    "x = np.random.randn(2, 3, 4)\n",
    "w = np.random.randn(12, 10)\n",
    "b = np.random.randn(10)\n",
    "dout = np.random.randn(2, 10)\n",
    "\n",
    "out, cache = affine_relu_forward(x, w, b)\n",
    "dx, dw, db = affine_relu_backward(dout, cache)\n",
    "\n",
    "dx_num = eval_numerical_gradient_array(lambda x: affine_relu_forward(x, w, b)[0], x, dout)\n",
    "dw_num = eval_numerical_gradient_array(lambda w: affine_relu_forward(x, w, b)[0], w, dout)\n",
    "db_num = eval_numerical_gradient_array(lambda b: affine_relu_forward(x, w, b)[0], b, dout)\n",
    "\n",
    "print('Testing affine_relu_forward:')\n",
    "print('dx error: ', rel_error(dx_num, dx))\n",
    "print('dw error: ', rel_error(dw_num, dw))\n",
    "print('db error: ', rel_error(db_num, db))"
   ]
  },
  {
   "cell_type": "markdown",
   "metadata": {
    "id": "IX09N9oU-mvX"
   },
   "source": [
    "# Loss layers: Softmax and SVM\n",
    "Here we provide two loss functions that we will use to train our deep neural networks. You should understand how they work by looking at the implementations in `deeplearning/layers.py`.\n",
    "\n",
    "You can make sure that the implementations are correct by running the following:"
   ]
  },
  {
   "cell_type": "code",
   "execution_count": 9,
   "metadata": {
    "colab": {
     "base_uri": "https://localhost:8080/"
    },
    "id": "g4dcun9X-mvX",
    "outputId": "1495020d-fb7c-4668-a05a-723c03195e6c"
   },
   "outputs": [
    {
     "name": "stdout",
     "output_type": "stream",
     "text": [
      "Testing svm_loss:\n",
      "loss:  8.996379701174755\n",
      "dx error:  1.4021566006651672e-09\n",
      "\n",
      "Testing softmax_loss:\n",
      "loss:  2.3022234895420284\n",
      "dx error:  9.148248562257618e-09\n"
     ]
    }
   ],
   "source": [
    "num_classes, num_inputs = 10, 50\n",
    "x = 0.001 * np.random.randn(num_inputs, num_classes)\n",
    "y = np.random.randint(num_classes, size=num_inputs)\n",
    "\n",
    "dx_num = eval_numerical_gradient(lambda x: svm_loss(x, y)[0], x, verbose=False)\n",
    "loss, dx = svm_loss(x, y)\n",
    "\n",
    "# Test svm_loss function. Loss should be around 9 and dx error should be 1e-9\n",
    "print('Testing svm_loss:')\n",
    "print('loss: ', loss)\n",
    "print('dx error: ', rel_error(dx_num, dx))\n",
    "\n",
    "dx_num = eval_numerical_gradient(lambda x: softmax_loss(x, y)[0], x, verbose=False)\n",
    "loss, dx = softmax_loss(x, y)\n",
    "\n",
    "# Test softmax_loss function. Loss should be 2.3 and dx error should be 1e-8\n",
    "print('\\nTesting softmax_loss:')\n",
    "print('loss: ', loss)\n",
    "print('dx error: ', rel_error(dx_num, dx))"
   ]
  },
  {
   "cell_type": "markdown",
   "metadata": {
    "id": "-YbkT7kZ-mvY"
   },
   "source": [
    "# Two-layer network\n",
    "\n",
    "Open the file `deeplearning/classifiers/fc_net.py` and complete the implementation of the `TwoLayerNet` class. This class will serve as a model for the other networks you will implement in this assignment, so read through it to make sure you understand the API. Run the cell below to test your implementation."
   ]
  },
  {
   "cell_type": "code",
   "execution_count": 10,
   "metadata": {
    "colab": {
     "base_uri": "https://localhost:8080/"
    },
    "id": "YW5b1kBz-mvY",
    "outputId": "7c2f4004-d226-42ff-ac72-c547d153421a"
   },
   "outputs": [
    {
     "name": "stdout",
     "output_type": "stream",
     "text": [
      "Testing initialization ... \n",
      "Testing test-time forward pass ... \n",
      "Testing training loss (no regularization)\n",
      "Running numeric gradient check with reg =  0.0\n",
      "W1 relative error: 1.52e-08\n",
      "W2 relative error: 3.21e-10\n",
      "b1 relative error: 8.37e-09\n",
      "b2 relative error: 4.33e-10\n",
      "Running numeric gradient check with reg =  0.7\n",
      "W1 relative error: 2.53e-07\n",
      "W2 relative error: 2.85e-08\n",
      "b1 relative error: 1.56e-08\n",
      "b2 relative error: 7.76e-10\n"
     ]
    }
   ],
   "source": [
    "N, D, H, C = 3, 5, 50, 7\n",
    "X = np.random.randn(N, D)\n",
    "y = np.random.randint(C, size=N)\n",
    "\n",
    "std = 1e-2\n",
    "model = TwoLayerNet(input_dim=D, hidden_dim=H, num_classes=C, weight_scale=std)\n",
    "\n",
    "print ('Testing initialization ... ')\n",
    "W1_std = abs(model.params['W1'].std() - std)\n",
    "b1 = model.params['b1']\n",
    "W2_std = abs(model.params['W2'].std() - std)\n",
    "b2 = model.params['b2']\n",
    "assert W1_std < std / 10, 'First layer weights do not seem right'\n",
    "assert np.all(b1 == 0), 'First layer biases do not seem right'\n",
    "assert W2_std < std / 10, 'Second layer weights do not seem right'\n",
    "assert np.all(b2 == 0), 'Second layer biases do not seem right'\n",
    "\n",
    "print ('Testing test-time forward pass ... ')\n",
    "model.params['W1'] = np.linspace(-0.7, 0.3, num=D*H).reshape(D, H)\n",
    "model.params['b1'] = np.linspace(-0.1, 0.9, num=H)\n",
    "model.params['W2'] = np.linspace(-0.3, 0.4, num=H*C).reshape(H, C)\n",
    "model.params['b2'] = np.linspace(-0.9, 0.1, num=C)\n",
    "X = np.linspace(-5.5, 4.5, num=N*D).reshape(D, N).T\n",
    "scores = model.loss(X)\n",
    "correct_scores = np.asarray(\n",
    "  [[11.53165108,  12.2917344,   13.05181771,  13.81190102,  14.57198434, 15.33206765,  16.09215096],\n",
    "   [12.05769098,  12.74614105,  13.43459113,  14.1230412,   14.81149128, 15.49994135,  16.18839143],\n",
    "   [12.58373087,  13.20054771,  13.81736455,  14.43418138,  15.05099822, 15.66781506,  16.2846319 ]])\n",
    "scores_diff = np.abs(scores - correct_scores).sum()\n",
    "assert scores_diff < 1e-6, 'Problem with test-time forward pass'\n",
    "\n",
    "print ('Testing training loss (no regularization)')\n",
    "y = np.asarray([0, 5, 1])\n",
    "loss, grads = model.loss(X, y)\n",
    "correct_loss = 3.4702243556\n",
    "assert abs(loss - correct_loss) < 1e-10, 'Problem with training-time loss'\n",
    "\n",
    "model.reg = 1.0\n",
    "loss, grads = model.loss(X, y)\n",
    "correct_loss = 26.5948426952\n",
    "assert abs(loss - correct_loss) < 1e-10, 'Problem with regularization loss'\n",
    "\n",
    "for reg in [0.0, 0.7]:\n",
    "    print ('Running numeric gradient check with reg = ', reg)\n",
    "    model.reg = reg\n",
    "    loss, grads = model.loss(X, y)\n",
    "\n",
    "    for name in sorted(grads):\n",
    "        f = lambda _: model.loss(X, y)[0]\n",
    "        grad_num = eval_numerical_gradient(f, model.params[name], verbose=False)\n",
    "        print ('%s relative error: %.2e' % (name, rel_error(grad_num, grads[name])))"
   ]
  },
  {
   "cell_type": "markdown",
   "metadata": {
    "id": "yVHZ1jBn-mvY"
   },
   "source": [
    "# Solver\n",
    "Following a modular design, for this assignment we have split the logic for training models into a separate class from the models themselves.\n",
    "\n",
    "Open the file `deeplearning/solver.py` and read through it to familiarize yourself with the API. After doing so, use a `Solver` instance to train a `TwoLayerNet` that achieves at least `50%` accuracy on the validation set."
   ]
  },
  {
   "cell_type": "code",
   "execution_count": 11,
   "metadata": {
    "colab": {
     "base_uri": "https://localhost:8080/"
    },
    "id": "60ll4Dnl-mvY",
    "outputId": "9514c284-2145-4add-f71e-5ce9158d1358"
   },
   "outputs": [
    {
     "name": "stdout",
     "output_type": "stream",
     "text": [
      "(Iteration 1 / 4900) loss: 2.304622\n",
      "(Epoch 0 / 10) train acc: 0.147000; val_acc: 0.144000\n",
      "(Iteration 11 / 4900) loss: 2.253627\n",
      "(Iteration 21 / 4900) loss: 2.118999\n",
      "(Iteration 31 / 4900) loss: 2.035063\n",
      "(Iteration 41 / 4900) loss: 2.057117\n",
      "(Iteration 51 / 4900) loss: 1.923256\n",
      "(Iteration 61 / 4900) loss: 1.877780\n",
      "(Iteration 71 / 4900) loss: 1.873597\n",
      "(Iteration 81 / 4900) loss: 1.752997\n",
      "(Iteration 91 / 4900) loss: 1.754974\n",
      "(Iteration 101 / 4900) loss: 1.747593\n",
      "(Iteration 111 / 4900) loss: 1.595235\n",
      "(Iteration 121 / 4900) loss: 1.742125\n",
      "(Iteration 131 / 4900) loss: 1.745319\n",
      "(Iteration 141 / 4900) loss: 1.695405\n",
      "(Iteration 151 / 4900) loss: 1.868226\n",
      "(Iteration 161 / 4900) loss: 1.943588\n",
      "(Iteration 171 / 4900) loss: 1.835809\n",
      "(Iteration 181 / 4900) loss: 1.877174\n",
      "(Iteration 191 / 4900) loss: 1.651949\n",
      "(Iteration 201 / 4900) loss: 1.628502\n",
      "(Iteration 211 / 4900) loss: 1.517030\n",
      "(Iteration 221 / 4900) loss: 1.771376\n",
      "(Iteration 231 / 4900) loss: 1.595042\n",
      "(Iteration 241 / 4900) loss: 1.525036\n",
      "(Iteration 251 / 4900) loss: 1.675936\n",
      "(Iteration 261 / 4900) loss: 1.698860\n",
      "(Iteration 271 / 4900) loss: 1.446716\n",
      "(Iteration 281 / 4900) loss: 1.644644\n",
      "(Iteration 291 / 4900) loss: 1.624366\n",
      "(Iteration 301 / 4900) loss: 1.650730\n",
      "(Iteration 311 / 4900) loss: 1.651932\n",
      "(Iteration 321 / 4900) loss: 1.576249\n",
      "(Iteration 331 / 4900) loss: 1.833923\n",
      "(Iteration 341 / 4900) loss: 1.616120\n",
      "(Iteration 351 / 4900) loss: 1.650156\n",
      "(Iteration 361 / 4900) loss: 1.670020\n",
      "(Iteration 371 / 4900) loss: 1.651521\n",
      "(Iteration 381 / 4900) loss: 1.636759\n",
      "(Iteration 391 / 4900) loss: 1.805634\n",
      "(Iteration 401 / 4900) loss: 1.670794\n",
      "(Iteration 411 / 4900) loss: 1.484380\n",
      "(Iteration 421 / 4900) loss: 1.604607\n",
      "(Iteration 431 / 4900) loss: 1.442081\n",
      "(Iteration 441 / 4900) loss: 1.485167\n",
      "(Iteration 451 / 4900) loss: 1.781823\n",
      "(Iteration 461 / 4900) loss: 1.576223\n",
      "(Iteration 471 / 4900) loss: 1.523797\n",
      "(Iteration 481 / 4900) loss: 1.585261\n",
      "(Epoch 1 / 10) train acc: 0.460000; val_acc: 0.446000\n",
      "(Iteration 491 / 4900) loss: 1.853856\n",
      "(Iteration 501 / 4900) loss: 1.696644\n",
      "(Iteration 511 / 4900) loss: 1.374891\n",
      "(Iteration 521 / 4900) loss: 1.603564\n",
      "(Iteration 531 / 4900) loss: 1.399778\n",
      "(Iteration 541 / 4900) loss: 1.458846\n",
      "(Iteration 551 / 4900) loss: 1.482298\n",
      "(Iteration 561 / 4900) loss: 1.544025\n",
      "(Iteration 571 / 4900) loss: 1.480791\n",
      "(Iteration 581 / 4900) loss: 1.393590\n",
      "(Iteration 591 / 4900) loss: 1.432881\n",
      "(Iteration 601 / 4900) loss: 1.522016\n",
      "(Iteration 611 / 4900) loss: 1.546192\n",
      "(Iteration 621 / 4900) loss: 1.494972\n",
      "(Iteration 631 / 4900) loss: 1.624205\n",
      "(Iteration 641 / 4900) loss: 1.560346\n",
      "(Iteration 651 / 4900) loss: 1.611392\n",
      "(Iteration 661 / 4900) loss: 1.623796\n",
      "(Iteration 671 / 4900) loss: 1.401205\n",
      "(Iteration 681 / 4900) loss: 1.446897\n",
      "(Iteration 691 / 4900) loss: 1.410660\n",
      "(Iteration 701 / 4900) loss: 1.412545\n",
      "(Iteration 711 / 4900) loss: 1.467513\n",
      "(Iteration 721 / 4900) loss: 1.445640\n",
      "(Iteration 731 / 4900) loss: 1.484038\n",
      "(Iteration 741 / 4900) loss: 1.471191\n",
      "(Iteration 751 / 4900) loss: 1.637151\n",
      "(Iteration 761 / 4900) loss: 1.520418\n",
      "(Iteration 771 / 4900) loss: 1.555748\n",
      "(Iteration 781 / 4900) loss: 1.440199\n",
      "(Iteration 791 / 4900) loss: 1.585889\n",
      "(Iteration 801 / 4900) loss: 1.488778\n",
      "(Iteration 811 / 4900) loss: 1.467110\n",
      "(Iteration 821 / 4900) loss: 1.485367\n",
      "(Iteration 831 / 4900) loss: 1.488124\n",
      "(Iteration 841 / 4900) loss: 1.584029\n",
      "(Iteration 851 / 4900) loss: 1.334102\n",
      "(Iteration 861 / 4900) loss: 1.357347\n",
      "(Iteration 871 / 4900) loss: 1.642297\n",
      "(Iteration 881 / 4900) loss: 1.349033\n",
      "(Iteration 891 / 4900) loss: 1.502275\n",
      "(Iteration 901 / 4900) loss: 1.365036\n",
      "(Iteration 911 / 4900) loss: 1.499749\n",
      "(Iteration 921 / 4900) loss: 1.490730\n",
      "(Iteration 931 / 4900) loss: 1.557523\n",
      "(Iteration 941 / 4900) loss: 1.594262\n",
      "(Iteration 951 / 4900) loss: 1.464972\n",
      "(Iteration 961 / 4900) loss: 1.225622\n",
      "(Iteration 971 / 4900) loss: 1.649791\n",
      "(Epoch 2 / 10) train acc: 0.472000; val_acc: 0.469000\n",
      "(Iteration 981 / 4900) loss: 1.410183\n",
      "(Iteration 991 / 4900) loss: 1.327053\n",
      "(Iteration 1001 / 4900) loss: 1.573291\n",
      "(Iteration 1011 / 4900) loss: 1.364882\n",
      "(Iteration 1021 / 4900) loss: 1.454280\n",
      "(Iteration 1031 / 4900) loss: 1.386584\n",
      "(Iteration 1041 / 4900) loss: 1.273640\n",
      "(Iteration 1051 / 4900) loss: 1.568713\n",
      "(Iteration 1061 / 4900) loss: 1.435749\n",
      "(Iteration 1071 / 4900) loss: 1.513487\n",
      "(Iteration 1081 / 4900) loss: 1.376822\n",
      "(Iteration 1091 / 4900) loss: 1.488319\n",
      "(Iteration 1101 / 4900) loss: 1.479979\n",
      "(Iteration 1111 / 4900) loss: 1.355589\n",
      "(Iteration 1121 / 4900) loss: 1.406963\n",
      "(Iteration 1131 / 4900) loss: 1.418799\n",
      "(Iteration 1141 / 4900) loss: 1.564725\n",
      "(Iteration 1151 / 4900) loss: 1.427396\n",
      "(Iteration 1161 / 4900) loss: 1.258811\n",
      "(Iteration 1171 / 4900) loss: 1.535098\n",
      "(Iteration 1181 / 4900) loss: 1.198442\n",
      "(Iteration 1191 / 4900) loss: 1.450398\n",
      "(Iteration 1201 / 4900) loss: 1.586851\n",
      "(Iteration 1211 / 4900) loss: 1.184745\n",
      "(Iteration 1221 / 4900) loss: 1.233637\n",
      "(Iteration 1231 / 4900) loss: 1.254137\n",
      "(Iteration 1241 / 4900) loss: 1.308547\n",
      "(Iteration 1251 / 4900) loss: 1.523936\n",
      "(Iteration 1261 / 4900) loss: 1.476986\n",
      "(Iteration 1271 / 4900) loss: 1.667559\n",
      "(Iteration 1281 / 4900) loss: 1.378565\n",
      "(Iteration 1291 / 4900) loss: 1.392262\n",
      "(Iteration 1301 / 4900) loss: 1.381566\n",
      "(Iteration 1311 / 4900) loss: 1.334570\n",
      "(Iteration 1321 / 4900) loss: 1.447090\n",
      "(Iteration 1331 / 4900) loss: 1.507512\n",
      "(Iteration 1341 / 4900) loss: 1.521824\n",
      "(Iteration 1351 / 4900) loss: 1.366258\n",
      "(Iteration 1361 / 4900) loss: 1.303560\n",
      "(Iteration 1371 / 4900) loss: 1.516620\n",
      "(Iteration 1381 / 4900) loss: 1.428366\n",
      "(Iteration 1391 / 4900) loss: 1.469430\n",
      "(Iteration 1401 / 4900) loss: 1.349849\n",
      "(Iteration 1411 / 4900) loss: 1.439188\n",
      "(Iteration 1421 / 4900) loss: 1.198387\n",
      "(Iteration 1431 / 4900) loss: 1.193155\n",
      "(Iteration 1441 / 4900) loss: 1.521333\n",
      "(Iteration 1451 / 4900) loss: 1.286995\n",
      "(Iteration 1461 / 4900) loss: 1.341138\n",
      "(Epoch 3 / 10) train acc: 0.559000; val_acc: 0.466000\n",
      "(Iteration 1471 / 4900) loss: 1.280744\n",
      "(Iteration 1481 / 4900) loss: 1.363323\n",
      "(Iteration 1491 / 4900) loss: 1.357278\n",
      "(Iteration 1501 / 4900) loss: 1.400358\n",
      "(Iteration 1511 / 4900) loss: 1.461308\n",
      "(Iteration 1521 / 4900) loss: 1.422856\n",
      "(Iteration 1531 / 4900) loss: 1.461520\n",
      "(Iteration 1541 / 4900) loss: 1.284442\n",
      "(Iteration 1551 / 4900) loss: 1.436757\n",
      "(Iteration 1561 / 4900) loss: 1.252994\n",
      "(Iteration 1571 / 4900) loss: 1.270777\n",
      "(Iteration 1581 / 4900) loss: 1.213606\n",
      "(Iteration 1591 / 4900) loss: 1.401567\n",
      "(Iteration 1601 / 4900) loss: 1.229713\n",
      "(Iteration 1611 / 4900) loss: 1.237616\n",
      "(Iteration 1621 / 4900) loss: 1.320930\n",
      "(Iteration 1631 / 4900) loss: 1.401145\n",
      "(Iteration 1641 / 4900) loss: 1.316511\n",
      "(Iteration 1651 / 4900) loss: 1.300147\n",
      "(Iteration 1661 / 4900) loss: 1.396422\n",
      "(Iteration 1671 / 4900) loss: 1.439624\n",
      "(Iteration 1681 / 4900) loss: 1.282810\n",
      "(Iteration 1691 / 4900) loss: 1.411364\n",
      "(Iteration 1701 / 4900) loss: 1.454108\n",
      "(Iteration 1711 / 4900) loss: 1.194336\n",
      "(Iteration 1721 / 4900) loss: 1.365919\n",
      "(Iteration 1731 / 4900) loss: 1.309576\n",
      "(Iteration 1741 / 4900) loss: 1.424623\n",
      "(Iteration 1751 / 4900) loss: 1.316036\n",
      "(Iteration 1761 / 4900) loss: 1.201118\n",
      "(Iteration 1771 / 4900) loss: 1.613785\n",
      "(Iteration 1781 / 4900) loss: 1.062595\n",
      "(Iteration 1791 / 4900) loss: 1.365163\n",
      "(Iteration 1801 / 4900) loss: 1.389820\n",
      "(Iteration 1811 / 4900) loss: 1.325230\n",
      "(Iteration 1821 / 4900) loss: 1.530807\n",
      "(Iteration 1831 / 4900) loss: 1.474037\n",
      "(Iteration 1841 / 4900) loss: 1.087852\n",
      "(Iteration 1851 / 4900) loss: 1.328434\n",
      "(Iteration 1861 / 4900) loss: 1.295500\n",
      "(Iteration 1871 / 4900) loss: 1.074543\n",
      "(Iteration 1881 / 4900) loss: 1.327258\n",
      "(Iteration 1891 / 4900) loss: 1.478398\n",
      "(Iteration 1901 / 4900) loss: 1.482262\n",
      "(Iteration 1911 / 4900) loss: 1.481263\n",
      "(Iteration 1921 / 4900) loss: 1.431441\n",
      "(Iteration 1931 / 4900) loss: 1.308457\n",
      "(Iteration 1941 / 4900) loss: 1.458987\n",
      "(Iteration 1951 / 4900) loss: 1.186827\n",
      "(Epoch 4 / 10) train acc: 0.516000; val_acc: 0.469000\n",
      "(Iteration 1961 / 4900) loss: 1.414369\n",
      "(Iteration 1971 / 4900) loss: 1.286190\n",
      "(Iteration 1981 / 4900) loss: 1.310118\n",
      "(Iteration 1991 / 4900) loss: 1.199130\n",
      "(Iteration 2001 / 4900) loss: 1.070120\n",
      "(Iteration 2011 / 4900) loss: 1.377358\n",
      "(Iteration 2021 / 4900) loss: 1.498818\n",
      "(Iteration 2031 / 4900) loss: 1.441765\n",
      "(Iteration 2041 / 4900) loss: 1.264465\n",
      "(Iteration 2051 / 4900) loss: 1.260697\n",
      "(Iteration 2061 / 4900) loss: 1.319758\n"
     ]
    },
    {
     "name": "stdout",
     "output_type": "stream",
     "text": [
      "(Iteration 2071 / 4900) loss: 1.317284\n",
      "(Iteration 2081 / 4900) loss: 1.398372\n",
      "(Iteration 2091 / 4900) loss: 1.156080\n",
      "(Iteration 2101 / 4900) loss: 1.133001\n",
      "(Iteration 2111 / 4900) loss: 1.318840\n",
      "(Iteration 2121 / 4900) loss: 1.285113\n",
      "(Iteration 2131 / 4900) loss: 1.289692\n",
      "(Iteration 2141 / 4900) loss: 1.390740\n",
      "(Iteration 2151 / 4900) loss: 1.266733\n",
      "(Iteration 2161 / 4900) loss: 1.257905\n",
      "(Iteration 2171 / 4900) loss: 1.334200\n",
      "(Iteration 2181 / 4900) loss: 1.301429\n",
      "(Iteration 2191 / 4900) loss: 1.283222\n",
      "(Iteration 2201 / 4900) loss: 1.385418\n",
      "(Iteration 2211 / 4900) loss: 1.340836\n",
      "(Iteration 2221 / 4900) loss: 1.191670\n",
      "(Iteration 2231 / 4900) loss: 1.255002\n",
      "(Iteration 2241 / 4900) loss: 1.157689\n",
      "(Iteration 2251 / 4900) loss: 1.246853\n",
      "(Iteration 2261 / 4900) loss: 1.255975\n",
      "(Iteration 2271 / 4900) loss: 1.363706\n",
      "(Iteration 2281 / 4900) loss: 1.272855\n",
      "(Iteration 2291 / 4900) loss: 1.369338\n",
      "(Iteration 2301 / 4900) loss: 1.266401\n",
      "(Iteration 2311 / 4900) loss: 1.177824\n",
      "(Iteration 2321 / 4900) loss: 1.243882\n",
      "(Iteration 2331 / 4900) loss: 1.393778\n",
      "(Iteration 2341 / 4900) loss: 0.984685\n",
      "(Iteration 2351 / 4900) loss: 1.309161\n",
      "(Iteration 2361 / 4900) loss: 1.348194\n",
      "(Iteration 2371 / 4900) loss: 1.300607\n",
      "(Iteration 2381 / 4900) loss: 1.317258\n",
      "(Iteration 2391 / 4900) loss: 1.129795\n",
      "(Iteration 2401 / 4900) loss: 1.263334\n",
      "(Iteration 2411 / 4900) loss: 1.326741\n",
      "(Iteration 2421 / 4900) loss: 1.299561\n",
      "(Iteration 2431 / 4900) loss: 1.128696\n",
      "(Iteration 2441 / 4900) loss: 1.250544\n",
      "(Epoch 5 / 10) train acc: 0.545000; val_acc: 0.503000\n",
      "(Iteration 2451 / 4900) loss: 1.495975\n",
      "(Iteration 2461 / 4900) loss: 1.607055\n",
      "(Iteration 2471 / 4900) loss: 1.231331\n",
      "(Iteration 2481 / 4900) loss: 1.339352\n",
      "(Iteration 2491 / 4900) loss: 1.266704\n",
      "(Iteration 2501 / 4900) loss: 1.171527\n",
      "(Iteration 2511 / 4900) loss: 1.373599\n",
      "(Iteration 2521 / 4900) loss: 1.298388\n",
      "(Iteration 2531 / 4900) loss: 1.230410\n",
      "(Iteration 2541 / 4900) loss: 1.330642\n",
      "(Iteration 2551 / 4900) loss: 1.204029\n",
      "(Iteration 2561 / 4900) loss: 1.373604\n",
      "(Iteration 2571 / 4900) loss: 1.159978\n",
      "(Iteration 2581 / 4900) loss: 1.343651\n",
      "(Iteration 2591 / 4900) loss: 1.154387\n",
      "(Iteration 2601 / 4900) loss: 1.299435\n",
      "(Iteration 2611 / 4900) loss: 1.285523\n",
      "(Iteration 2621 / 4900) loss: 1.155925\n",
      "(Iteration 2631 / 4900) loss: 1.127095\n",
      "(Iteration 2641 / 4900) loss: 1.426626\n",
      "(Iteration 2651 / 4900) loss: 1.574340\n",
      "(Iteration 2661 / 4900) loss: 1.115874\n",
      "(Iteration 2671 / 4900) loss: 1.392908\n",
      "(Iteration 2681 / 4900) loss: 1.233928\n",
      "(Iteration 2691 / 4900) loss: 1.206285\n",
      "(Iteration 2701 / 4900) loss: 1.158827\n",
      "(Iteration 2711 / 4900) loss: 1.260409\n",
      "(Iteration 2721 / 4900) loss: 1.058452\n",
      "(Iteration 2731 / 4900) loss: 1.231133\n",
      "(Iteration 2741 / 4900) loss: 1.258440\n",
      "(Iteration 2751 / 4900) loss: 1.254324\n",
      "(Iteration 2761 / 4900) loss: 1.403961\n",
      "(Iteration 2771 / 4900) loss: 1.054988\n",
      "(Iteration 2781 / 4900) loss: 1.280598\n",
      "(Iteration 2791 / 4900) loss: 1.156779\n",
      "(Iteration 2801 / 4900) loss: 1.270212\n",
      "(Iteration 2811 / 4900) loss: 1.382410\n",
      "(Iteration 2821 / 4900) loss: 1.232866\n",
      "(Iteration 2831 / 4900) loss: 1.230446\n",
      "(Iteration 2841 / 4900) loss: 1.427574\n",
      "(Iteration 2851 / 4900) loss: 1.336709\n",
      "(Iteration 2861 / 4900) loss: 1.163581\n",
      "(Iteration 2871 / 4900) loss: 1.228707\n",
      "(Iteration 2881 / 4900) loss: 1.214795\n",
      "(Iteration 2891 / 4900) loss: 1.147884\n",
      "(Iteration 2901 / 4900) loss: 1.296868\n",
      "(Iteration 2911 / 4900) loss: 1.305171\n",
      "(Iteration 2921 / 4900) loss: 1.321161\n",
      "(Iteration 2931 / 4900) loss: 1.337219\n",
      "(Epoch 6 / 10) train acc: 0.581000; val_acc: 0.501000\n",
      "(Iteration 2941 / 4900) loss: 1.095310\n",
      "(Iteration 2951 / 4900) loss: 1.065370\n",
      "(Iteration 2961 / 4900) loss: 1.251993\n",
      "(Iteration 2971 / 4900) loss: 1.351608\n",
      "(Iteration 2981 / 4900) loss: 1.071014\n",
      "(Iteration 2991 / 4900) loss: 1.262191\n",
      "(Iteration 3001 / 4900) loss: 1.189618\n",
      "(Iteration 3011 / 4900) loss: 1.409345\n",
      "(Iteration 3021 / 4900) loss: 1.056453\n",
      "(Iteration 3031 / 4900) loss: 1.041443\n",
      "(Iteration 3041 / 4900) loss: 1.215272\n",
      "(Iteration 3051 / 4900) loss: 1.396118\n",
      "(Iteration 3061 / 4900) loss: 1.065994\n",
      "(Iteration 3071 / 4900) loss: 1.231051\n",
      "(Iteration 3081 / 4900) loss: 1.351754\n",
      "(Iteration 3091 / 4900) loss: 1.174307\n",
      "(Iteration 3101 / 4900) loss: 1.164446\n",
      "(Iteration 3111 / 4900) loss: 1.277529\n",
      "(Iteration 3121 / 4900) loss: 1.155626\n",
      "(Iteration 3131 / 4900) loss: 1.332384\n",
      "(Iteration 3141 / 4900) loss: 1.204309\n",
      "(Iteration 3151 / 4900) loss: 1.241676\n",
      "(Iteration 3161 / 4900) loss: 0.986638\n",
      "(Iteration 3171 / 4900) loss: 1.260095\n",
      "(Iteration 3181 / 4900) loss: 1.301007\n",
      "(Iteration 3191 / 4900) loss: 1.403280\n",
      "(Iteration 3201 / 4900) loss: 1.170754\n",
      "(Iteration 3211 / 4900) loss: 1.196071\n",
      "(Iteration 3221 / 4900) loss: 1.089352\n",
      "(Iteration 3231 / 4900) loss: 1.166631\n",
      "(Iteration 3241 / 4900) loss: 1.116952\n",
      "(Iteration 3251 / 4900) loss: 0.978623\n",
      "(Iteration 3261 / 4900) loss: 1.089661\n",
      "(Iteration 3271 / 4900) loss: 1.236854\n",
      "(Iteration 3281 / 4900) loss: 1.122756\n",
      "(Iteration 3291 / 4900) loss: 1.263267\n",
      "(Iteration 3301 / 4900) loss: 1.285080\n",
      "(Iteration 3311 / 4900) loss: 0.982805\n",
      "(Iteration 3321 / 4900) loss: 1.134777\n",
      "(Iteration 3331 / 4900) loss: 1.234280\n",
      "(Iteration 3341 / 4900) loss: 1.131091\n",
      "(Iteration 3351 / 4900) loss: 1.363291\n",
      "(Iteration 3361 / 4900) loss: 1.110366\n",
      "(Iteration 3371 / 4900) loss: 1.201941\n",
      "(Iteration 3381 / 4900) loss: 1.098597\n",
      "(Iteration 3391 / 4900) loss: 1.163485\n",
      "(Iteration 3401 / 4900) loss: 1.304423\n",
      "(Iteration 3411 / 4900) loss: 1.350667\n",
      "(Iteration 3421 / 4900) loss: 1.104991\n",
      "(Epoch 7 / 10) train acc: 0.599000; val_acc: 0.506000\n",
      "(Iteration 3431 / 4900) loss: 1.072369\n",
      "(Iteration 3441 / 4900) loss: 1.231375\n",
      "(Iteration 3451 / 4900) loss: 1.206718\n",
      "(Iteration 3461 / 4900) loss: 1.327254\n",
      "(Iteration 3471 / 4900) loss: 1.383422\n",
      "(Iteration 3481 / 4900) loss: 1.023858\n",
      "(Iteration 3491 / 4900) loss: 1.111637\n",
      "(Iteration 3501 / 4900) loss: 1.143357\n",
      "(Iteration 3511 / 4900) loss: 1.005710\n",
      "(Iteration 3521 / 4900) loss: 1.130400\n",
      "(Iteration 3531 / 4900) loss: 1.179826\n",
      "(Iteration 3541 / 4900) loss: 1.016006\n",
      "(Iteration 3551 / 4900) loss: 1.084541\n",
      "(Iteration 3561 / 4900) loss: 1.298493\n",
      "(Iteration 3571 / 4900) loss: 1.342532\n",
      "(Iteration 3581 / 4900) loss: 1.263748\n",
      "(Iteration 3591 / 4900) loss: 1.213006\n",
      "(Iteration 3601 / 4900) loss: 1.278979\n",
      "(Iteration 3611 / 4900) loss: 1.142411\n",
      "(Iteration 3621 / 4900) loss: 1.363679\n",
      "(Iteration 3631 / 4900) loss: 0.998139\n",
      "(Iteration 3641 / 4900) loss: 1.204608\n",
      "(Iteration 3651 / 4900) loss: 1.135581\n",
      "(Iteration 3661 / 4900) loss: 0.948943\n",
      "(Iteration 3671 / 4900) loss: 1.172580\n",
      "(Iteration 3681 / 4900) loss: 1.061210\n",
      "(Iteration 3691 / 4900) loss: 1.004326\n",
      "(Iteration 3701 / 4900) loss: 1.000247\n",
      "(Iteration 3711 / 4900) loss: 1.158945\n",
      "(Iteration 3721 / 4900) loss: 1.204795\n",
      "(Iteration 3731 / 4900) loss: 1.044093\n",
      "(Iteration 3741 / 4900) loss: 1.000083\n",
      "(Iteration 3751 / 4900) loss: 1.111539\n",
      "(Iteration 3761 / 4900) loss: 1.083945\n",
      "(Iteration 3771 / 4900) loss: 1.141305\n",
      "(Iteration 3781 / 4900) loss: 1.168341\n",
      "(Iteration 3791 / 4900) loss: 0.986913\n",
      "(Iteration 3801 / 4900) loss: 1.000208\n",
      "(Iteration 3811 / 4900) loss: 1.180453\n",
      "(Iteration 3821 / 4900) loss: 1.184372\n",
      "(Iteration 3831 / 4900) loss: 1.009473\n",
      "(Iteration 3841 / 4900) loss: 1.173964\n",
      "(Iteration 3851 / 4900) loss: 1.443209\n",
      "(Iteration 3861 / 4900) loss: 1.095303\n",
      "(Iteration 3871 / 4900) loss: 1.202565\n",
      "(Iteration 3881 / 4900) loss: 1.025453\n",
      "(Iteration 3891 / 4900) loss: 1.432129\n",
      "(Iteration 3901 / 4900) loss: 1.199996\n",
      "(Iteration 3911 / 4900) loss: 0.939382\n",
      "(Epoch 8 / 10) train acc: 0.589000; val_acc: 0.503000\n",
      "(Iteration 3921 / 4900) loss: 1.296847\n",
      "(Iteration 3931 / 4900) loss: 1.215522\n",
      "(Iteration 3941 / 4900) loss: 1.039622\n",
      "(Iteration 3951 / 4900) loss: 1.130036\n",
      "(Iteration 3961 / 4900) loss: 1.149274\n",
      "(Iteration 3971 / 4900) loss: 0.938375\n",
      "(Iteration 3981 / 4900) loss: 1.057025\n",
      "(Iteration 3991 / 4900) loss: 1.055586\n",
      "(Iteration 4001 / 4900) loss: 1.042915\n",
      "(Iteration 4011 / 4900) loss: 1.367356\n",
      "(Iteration 4021 / 4900) loss: 0.988313\n",
      "(Iteration 4031 / 4900) loss: 1.144822\n",
      "(Iteration 4041 / 4900) loss: 1.164166\n",
      "(Iteration 4051 / 4900) loss: 1.179109\n",
      "(Iteration 4061 / 4900) loss: 1.009161\n",
      "(Iteration 4071 / 4900) loss: 1.082520\n",
      "(Iteration 4081 / 4900) loss: 1.188711\n",
      "(Iteration 4091 / 4900) loss: 1.043387\n",
      "(Iteration 4101 / 4900) loss: 1.057905\n",
      "(Iteration 4111 / 4900) loss: 1.120615\n"
     ]
    },
    {
     "name": "stdout",
     "output_type": "stream",
     "text": [
      "(Iteration 4121 / 4900) loss: 1.038445\n",
      "(Iteration 4131 / 4900) loss: 1.070631\n",
      "(Iteration 4141 / 4900) loss: 1.268805\n",
      "(Iteration 4151 / 4900) loss: 1.041535\n",
      "(Iteration 4161 / 4900) loss: 0.993465\n",
      "(Iteration 4171 / 4900) loss: 1.237859\n",
      "(Iteration 4181 / 4900) loss: 1.187168\n",
      "(Iteration 4191 / 4900) loss: 1.042341\n",
      "(Iteration 4201 / 4900) loss: 1.024059\n",
      "(Iteration 4211 / 4900) loss: 1.123997\n",
      "(Iteration 4221 / 4900) loss: 1.200484\n",
      "(Iteration 4231 / 4900) loss: 1.317789\n",
      "(Iteration 4241 / 4900) loss: 0.983870\n",
      "(Iteration 4251 / 4900) loss: 1.149704\n",
      "(Iteration 4261 / 4900) loss: 1.252317\n",
      "(Iteration 4271 / 4900) loss: 1.176347\n",
      "(Iteration 4281 / 4900) loss: 1.096623\n",
      "(Iteration 4291 / 4900) loss: 1.083404\n",
      "(Iteration 4301 / 4900) loss: 1.102721\n",
      "(Iteration 4311 / 4900) loss: 0.958383\n",
      "(Iteration 4321 / 4900) loss: 1.313404\n",
      "(Iteration 4331 / 4900) loss: 1.134489\n",
      "(Iteration 4341 / 4900) loss: 1.037183\n",
      "(Iteration 4351 / 4900) loss: 0.976373\n",
      "(Iteration 4361 / 4900) loss: 1.160327\n",
      "(Iteration 4371 / 4900) loss: 1.199806\n",
      "(Iteration 4381 / 4900) loss: 1.217935\n",
      "(Iteration 4391 / 4900) loss: 1.100351\n",
      "(Iteration 4401 / 4900) loss: 1.197728\n",
      "(Epoch 9 / 10) train acc: 0.607000; val_acc: 0.518000\n",
      "(Iteration 4411 / 4900) loss: 1.032129\n",
      "(Iteration 4421 / 4900) loss: 1.188468\n",
      "(Iteration 4431 / 4900) loss: 1.152710\n",
      "(Iteration 4441 / 4900) loss: 1.038108\n",
      "(Iteration 4451 / 4900) loss: 1.200119\n",
      "(Iteration 4461 / 4900) loss: 1.249466\n",
      "(Iteration 4471 / 4900) loss: 0.852714\n",
      "(Iteration 4481 / 4900) loss: 1.010182\n",
      "(Iteration 4491 / 4900) loss: 0.986484\n",
      "(Iteration 4501 / 4900) loss: 1.166440\n",
      "(Iteration 4511 / 4900) loss: 1.274917\n",
      "(Iteration 4521 / 4900) loss: 1.076138\n",
      "(Iteration 4531 / 4900) loss: 0.903733\n",
      "(Iteration 4541 / 4900) loss: 1.221348\n",
      "(Iteration 4551 / 4900) loss: 1.094268\n",
      "(Iteration 4561 / 4900) loss: 1.104164\n",
      "(Iteration 4571 / 4900) loss: 1.149257\n",
      "(Iteration 4581 / 4900) loss: 1.044128\n",
      "(Iteration 4591 / 4900) loss: 1.249579\n",
      "(Iteration 4601 / 4900) loss: 1.177098\n",
      "(Iteration 4611 / 4900) loss: 1.139649\n",
      "(Iteration 4621 / 4900) loss: 1.141192\n",
      "(Iteration 4631 / 4900) loss: 1.092796\n",
      "(Iteration 4641 / 4900) loss: 1.138875\n",
      "(Iteration 4651 / 4900) loss: 1.175880\n",
      "(Iteration 4661 / 4900) loss: 1.261602\n",
      "(Iteration 4671 / 4900) loss: 0.894941\n",
      "(Iteration 4681 / 4900) loss: 1.258876\n",
      "(Iteration 4691 / 4900) loss: 1.249983\n",
      "(Iteration 4701 / 4900) loss: 1.112067\n",
      "(Iteration 4711 / 4900) loss: 1.001039\n",
      "(Iteration 4721 / 4900) loss: 1.045126\n",
      "(Iteration 4731 / 4900) loss: 1.088296\n",
      "(Iteration 4741 / 4900) loss: 1.116045\n",
      "(Iteration 4751 / 4900) loss: 1.109259\n",
      "(Iteration 4761 / 4900) loss: 1.181227\n",
      "(Iteration 4771 / 4900) loss: 1.020107\n",
      "(Iteration 4781 / 4900) loss: 1.025617\n",
      "(Iteration 4791 / 4900) loss: 1.166691\n",
      "(Iteration 4801 / 4900) loss: 1.169061\n",
      "(Iteration 4811 / 4900) loss: 0.978958\n",
      "(Iteration 4821 / 4900) loss: 1.117757\n",
      "(Iteration 4831 / 4900) loss: 1.270904\n",
      "(Iteration 4841 / 4900) loss: 1.293794\n",
      "(Iteration 4851 / 4900) loss: 0.907568\n",
      "(Iteration 4861 / 4900) loss: 1.192107\n",
      "(Iteration 4871 / 4900) loss: 1.056830\n",
      "(Iteration 4881 / 4900) loss: 0.959996\n",
      "(Iteration 4891 / 4900) loss: 1.012625\n",
      "(Epoch 10 / 10) train acc: 0.621000; val_acc: 0.527000\n"
     ]
    }
   ],
   "source": [
    "model = TwoLayerNet()\n",
    "solver = None\n",
    "\n",
    "##############################################################################\n",
    "# TODO: Use a Solver instance to train a TwoLayerNet that achieves at least  #\n",
    "# 50% accuracy on the validation set.                                        #\n",
    "##############################################################################\n",
    "optim_config = {}\n",
    "optim_config['learning_rate'] = 0.001\n",
    "solver = Solver(model, data, optim_config=optim_config, lr_decay=0.9, num_epochs=10)\n",
    "solver.train()\n",
    "##############################################################################\n",
    "#                             END OF YOUR CODE                               #\n",
    "##############################################################################"
   ]
  },
  {
   "cell_type": "code",
   "execution_count": 12,
   "metadata": {
    "colab": {
     "base_uri": "https://localhost:8080/",
     "height": 730
    },
    "id": "aoDlB7B3-mvZ",
    "outputId": "787f8ed1-208a-4259-bf47-141a1826ddbf"
   },
   "outputs": [
    {
     "data": {
      "image/png": "[encoded data removed]",
      "text/plain": [
       "<Figure size 1500x1200 with 2 Axes>"
      ]
     },
     "metadata": {},
     "output_type": "display_data"
    },
    {
     "ename": "NameError",
     "evalue": "name 'os' is not defined",
     "output_type": "error",
     "traceback": [
      "\u001b[0;31m---------------------------------------------------------------------------\u001b[0m",
      "\u001b[0;31mNameError\u001b[0m                                 Traceback (most recent call last)",
      "Cell \u001b[0;32mIn[12], line 19\u001b[0m\n\u001b[1;32m     16\u001b[0m plt\u001b[38;5;241m.\u001b[39mgcf()\u001b[38;5;241m.\u001b[39mset_size_inches(\u001b[38;5;241m15\u001b[39m, \u001b[38;5;241m12\u001b[39m)\n\u001b[1;32m     17\u001b[0m plt\u001b[38;5;241m.\u001b[39mshow()\n\u001b[0;32m---> 19\u001b[0m \u001b[43mos\u001b[49m\u001b[38;5;241m.\u001b[39mmakedirs(\u001b[38;5;124m'\u001b[39m\u001b[38;5;124msubmission_logs\u001b[39m\u001b[38;5;124m'\u001b[39m, exist_ok\u001b[38;5;241m=\u001b[39m\u001b[38;5;28;01mTrue\u001b[39;00m)\n\u001b[1;32m     20\u001b[0m solver\u001b[38;5;241m.\u001b[39mrecord_histories_as_npz(\u001b[38;5;124m'\u001b[39m\u001b[38;5;124msubmission_logs/train_2layer_fc.npz\u001b[39m\u001b[38;5;124m'\u001b[39m)\n",
      "\u001b[0;31mNameError\u001b[0m: name 'os' is not defined"
     ]
    }
   ],
   "source": [
    "# Run this cell to visualize training loss and train / val accuracy, and save the log file of the\n",
    "# experiment for submission.\n",
    "\n",
    "plt.subplot(2, 1, 1)\n",
    "plt.title('Training loss')\n",
    "plt.plot(solver.loss_history, 'o')\n",
    "plt.xlabel('Iteration')\n",
    "\n",
    "plt.subplot(2, 1, 2)\n",
    "plt.title('Accuracy')\n",
    "plt.plot(solver.train_acc_history, '-o', label='train')\n",
    "plt.plot(solver.val_acc_history, '-o', label='val')\n",
    "plt.plot([0.5] * len(solver.val_acc_history), 'k--')\n",
    "plt.xlabel('Epoch')\n",
    "plt.legend(loc='lower right')\n",
    "plt.gcf().set_size_inches(15, 12)\n",
    "plt.show()\n",
    "\n",
    "os.makedirs('submission_logs', exist_ok=True)\n",
    "solver.record_histories_as_npz('submission_logs/train_2layer_fc.npz')"
   ]
  },
  {
   "cell_type": "markdown",
   "metadata": {
    "id": "fPnhOwgs-mvZ"
   },
   "source": [
    "# Multilayer network\n",
    "Next you will implement a fully-connected network with an arbitrary number of hidden layers.\n",
    "\n",
    "Read through the `FullyConnectedNet` class in the file `deeplearning/classifiers/fc_net.py`.\n",
    "\n",
    "Implement the initialization, the forward pass, and the backward pass. For the moment don't worry about implementing dropout or batch normalization; we will add those features soon."
   ]
  },
  {
   "cell_type": "markdown",
   "metadata": {
    "id": "acYmIpOa-mvZ"
   },
   "source": [
    "## Initial loss and gradient check"
   ]
  },
  {
   "cell_type": "markdown",
   "metadata": {
    "id": "Jn4a9lIr-mvZ"
   },
   "source": [
    "As a sanity check, run the following to check the initial loss and to gradient check the network both with and without regularization. Do the initial losses seem reasonable?\n",
    "\n",
    "For gradient checking, you should expect to see errors around 1e-6 or less."
   ]
  },
  {
   "cell_type": "code",
   "execution_count": 19,
   "metadata": {
    "colab": {
     "base_uri": "https://localhost:8080/"
    },
    "id": "l2GgWqb6-mvZ",
    "outputId": "abfa5034-c4f8-4244-ca71-9ff0fee52901"
   },
   "outputs": [
    {
     "name": "stdout",
     "output_type": "stream",
     "text": [
      "Running check with reg =  0\n",
      "Initial loss:  2.3028299773353895\n",
      "W1 relative error: 4.37e-07\n",
      "W2 relative error: 1.82e-06\n",
      "W3 relative error: 4.01e-08\n",
      "b1 relative error: 1.01e-08\n",
      "b2 relative error: 4.54e-09\n",
      "b3 relative error: 8.78e-11\n",
      "Running check with reg =  3.14\n",
      "Initial loss:  7.068985213282478\n",
      "W1 relative error: 5.95e-09\n",
      "W2 relative error: 4.05e-08\n",
      "W3 relative error: 5.73e-07\n",
      "b1 relative error: 1.07e-07\n",
      "b2 relative error: 8.87e-09\n",
      "b3 relative error: 2.31e-10\n"
     ]
    }
   ],
   "source": [
    "N, D, H1, H2, C = 2, 15, 20, 30, 10\n",
    "X = np.random.randn(N, D)\n",
    "y = np.random.randint(C, size=(N,))\n",
    "\n",
    "for reg in [0, 3.14]:\n",
    "    print ('Running check with reg = ', reg)\n",
    "    model = FullyConnectedNet([H1, H2], input_dim=D, num_classes=C,\n",
    "                              reg=reg, weight_scale=5e-2, dtype=np.float64)\n",
    "\n",
    "    loss, grads = model.loss(X, y)\n",
    "    print ('Initial loss: ', loss)\n",
    "\n",
    "    for name in sorted(grads):\n",
    "        f = lambda _: model.loss(X, y)[0]\n",
    "        grad_num = eval_numerical_gradient(f, model.params[name], verbose=False, h=1e-5)\n",
    "        print ('%s relative error: %.2e' % (name, rel_error(grad_num, grads[name])))"
   ]
  },
  {
   "cell_type": "markdown",
   "metadata": {
    "id": "JAwlTiUM-mvZ"
   },
   "source": [
    "As another sanity check, make sure you can overfit a small dataset of 50 images. First we will try a three-layer network with 100 units in each hidden layer. You will need to tweak the learning rate and initialization scale, but you should be able to overfit and achieve 100% training accuracy within 20 epochs."
   ]
  },
  {
   "cell_type": "code",
   "execution_count": 20,
   "metadata": {
    "colab": {
     "base_uri": "https://localhost:8080/",
     "height": 958
    },
    "id": "x2GSa4JV-mvZ",
    "outputId": "e715ac58-c76e-4aa9-93f1-c8f4a74962f1",
    "scrolled": false
   },
   "outputs": [
    {
     "name": "stdout",
     "output_type": "stream",
     "text": [
      "(Iteration 1 / 40) loss: 2.321841\n",
      "(Epoch 0 / 20) train acc: 0.240000; val_acc: 0.109000\n",
      "(Epoch 1 / 20) train acc: 0.400000; val_acc: 0.143000\n",
      "(Epoch 2 / 20) train acc: 0.420000; val_acc: 0.132000\n",
      "(Epoch 3 / 20) train acc: 0.580000; val_acc: 0.157000\n",
      "(Epoch 4 / 20) train acc: 0.680000; val_acc: 0.208000\n",
      "(Epoch 5 / 20) train acc: 0.660000; val_acc: 0.194000\n",
      "(Iteration 11 / 40) loss: 1.087204\n",
      "(Epoch 6 / 20) train acc: 0.740000; val_acc: 0.196000\n",
      "(Epoch 7 / 20) train acc: 0.820000; val_acc: 0.196000\n",
      "(Epoch 8 / 20) train acc: 0.840000; val_acc: 0.198000\n",
      "(Epoch 9 / 20) train acc: 0.800000; val_acc: 0.156000\n",
      "(Epoch 10 / 20) train acc: 0.960000; val_acc: 0.192000\n",
      "(Iteration 21 / 40) loss: 0.478698\n",
      "(Epoch 11 / 20) train acc: 0.880000; val_acc: 0.209000\n",
      "(Epoch 12 / 20) train acc: 0.960000; val_acc: 0.201000\n",
      "(Epoch 13 / 20) train acc: 0.980000; val_acc: 0.184000\n",
      "(Epoch 14 / 20) train acc: 0.980000; val_acc: 0.207000\n",
      "(Epoch 15 / 20) train acc: 0.980000; val_acc: 0.200000\n",
      "(Iteration 31 / 40) loss: 0.130469\n",
      "(Epoch 16 / 20) train acc: 1.000000; val_acc: 0.202000\n",
      "(Epoch 17 / 20) train acc: 1.000000; val_acc: 0.204000\n",
      "(Epoch 18 / 20) train acc: 1.000000; val_acc: 0.198000\n",
      "(Epoch 19 / 20) train acc: 1.000000; val_acc: 0.204000\n",
      "(Epoch 20 / 20) train acc: 1.000000; val_acc: 0.205000\n"
     ]
    },
    {
     "data": {
      "image/png": "[encoded data removed]",
      "text/plain": [
       "<Figure size 720x576 with 1 Axes>"
      ]
     },
     "metadata": {
      "needs_background": "light"
     },
     "output_type": "display_data"
    }
   ],
   "source": [
    "# TODO: Use a three-layer Net to overfit 50 training examples.\n",
    "\n",
    "num_train = 50\n",
    "small_data = {\n",
    "  'X_train': data['X_train'][:num_train],\n",
    "  'y_train': data['y_train'][:num_train],\n",
    "  'X_val': data['X_val'],\n",
    "  'y_val': data['y_val'],\n",
    "}\n",
    "\n",
    "############################################################################\n",
    "# TODO: Tune these parameters to get 100% train accuracy within 20 epochs. #\n",
    "############################################################################\n",
    "weight_scale = 1e-2\n",
    "learning_rate = 1e-2\n",
    "############################################################################\n",
    "#                             END OF YOUR CODE                             #\n",
    "############################################################################\n",
    "\n",
    "model = FullyConnectedNet([100, 100],\n",
    "              weight_scale=weight_scale, dtype=np.float64)\n",
    "solver = Solver(model, small_data,\n",
    "                print_every=10, num_epochs=20, batch_size=25,\n",
    "                update_rule='sgd',\n",
    "                optim_config={\n",
    "                  'learning_rate': learning_rate,\n",
    "                }\n",
    "         )\n",
    "solver.train()\n",
    "\n",
    "plt.plot(solver.loss_history, 'o')\n",
    "plt.title('Training loss history')\n",
    "plt.xlabel('Iteration')\n",
    "plt.ylabel('Training loss')\n",
    "plt.show()\n",
    "\n",
    "solver.record_histories_as_npz('submission_logs/overfit_3layer_fc.npz')"
   ]
  },
  {
   "cell_type": "markdown",
   "metadata": {
    "id": "z3XtDJFd-mva"
   },
   "source": [
    "Now try to use a five-layer network with 100 units on each layer to overfit 50 training examples. Again you will have to adjust the learning rate and weight initialization, but you should be able to achieve 100% training accuracy within 20 epochs."
   ]
  },
  {
   "cell_type": "code",
   "execution_count": 21,
   "metadata": {
    "colab": {
     "base_uri": "https://localhost:8080/",
     "height": 958
    },
    "collapsed": true,
    "id": "M4iY4Pv--mva",
    "outputId": "28646dc8-c8ff-4085-898a-93674ab25f4f"
   },
   "outputs": [
    {
     "name": "stdout",
     "output_type": "stream",
     "text": [
      "(Iteration 1 / 40) loss: 156.209605\n",
      "(Epoch 0 / 20) train acc: 0.140000; val_acc: 0.109000\n",
      "(Epoch 1 / 20) train acc: 0.160000; val_acc: 0.101000\n",
      "(Epoch 2 / 20) train acc: 0.340000; val_acc: 0.122000\n",
      "(Epoch 3 / 20) train acc: 0.580000; val_acc: 0.111000\n",
      "(Epoch 4 / 20) train acc: 0.680000; val_acc: 0.095000\n",
      "(Epoch 5 / 20) train acc: 0.840000; val_acc: 0.098000\n",
      "(Iteration 11 / 40) loss: 2.839017\n",
      "(Epoch 6 / 20) train acc: 0.940000; val_acc: 0.108000\n",
      "(Epoch 7 / 20) train acc: 0.980000; val_acc: 0.108000\n",
      "(Epoch 8 / 20) train acc: 0.980000; val_acc: 0.108000\n",
      "(Epoch 9 / 20) train acc: 0.980000; val_acc: 0.108000\n",
      "(Epoch 10 / 20) train acc: 1.000000; val_acc: 0.113000\n",
      "(Iteration 21 / 40) loss: 0.000065\n",
      "(Epoch 11 / 20) train acc: 1.000000; val_acc: 0.113000\n",
      "(Epoch 12 / 20) train acc: 1.000000; val_acc: 0.113000\n",
      "(Epoch 13 / 20) train acc: 1.000000; val_acc: 0.112000\n",
      "(Epoch 14 / 20) train acc: 1.000000; val_acc: 0.111000\n",
      "(Epoch 15 / 20) train acc: 1.000000; val_acc: 0.111000\n",
      "(Iteration 31 / 40) loss: 0.000000\n",
      "(Epoch 16 / 20) train acc: 1.000000; val_acc: 0.111000\n",
      "(Epoch 17 / 20) train acc: 1.000000; val_acc: 0.111000\n",
      "(Epoch 18 / 20) train acc: 1.000000; val_acc: 0.111000\n",
      "(Epoch 19 / 20) train acc: 1.000000; val_acc: 0.111000\n",
      "(Epoch 20 / 20) train acc: 1.000000; val_acc: 0.110000\n"
     ]
    },
    {
     "data": {
      "image/png": "[encoded data removed]",
      "text/plain": [
       "<Figure size 720x576 with 1 Axes>"
      ]
     },
     "metadata": {
      "needs_background": "light"
     },
     "output_type": "display_data"
    }
   ],
   "source": [
    "## TODO: Use a five-layer Net to overfit 50 training examples.\n",
    "\n",
    "num_train = 50\n",
    "small_data = {\n",
    "  'X_train': data['X_train'][:num_train],\n",
    "  'y_train': data['y_train'][:num_train],\n",
    "  'X_val': data['X_val'],\n",
    "  'y_val': data['y_val'],\n",
    "}\n",
    "\n",
    "############################################################################\n",
    "# TODO: Tune these parameters to get 100% train accuracy within 20 epochs. #\n",
    "############################################################################\n",
    "weight_scale = 1e-1\n",
    "learning_rate = 1e-3\n",
    "############################################################################\n",
    "#                             END OF YOUR CODE                             #\n",
    "############################################################################\n",
    "\n",
    "model = FullyConnectedNet([100, 100, 100, 100],\n",
    "                weight_scale=weight_scale, dtype=np.float64)\n",
    "solver = Solver(model, small_data,\n",
    "                print_every=10, num_epochs=20, batch_size=25,\n",
    "                update_rule='sgd',\n",
    "                optim_config={\n",
    "                  'learning_rate': learning_rate,\n",
    "                }\n",
    "         )\n",
    "solver.train()\n",
    "\n",
    "plt.plot(solver.loss_history, 'o')\n",
    "plt.title('Training loss history')\n",
    "plt.xlabel('Iteration')\n",
    "plt.ylabel('Training loss')\n",
    "plt.show()\n",
    "\n",
    "solver.record_histories_as_npz('submission_logs/overfit_5layer_fc.npz')"
   ]
  },
  {
   "cell_type": "markdown",
   "metadata": {
    "id": "cD998Q3hOtbr"
   },
   "source": [
    "# Collect your submissions"
   ]
  },
  {
   "cell_type": "code",
   "execution_count": 25,
   "metadata": {
    "colab": {
     "base_uri": "https://localhost:8080/"
    },
    "id": "uvTIiFPcOweF",
    "outputId": "1bcda3b4-9f0d-402b-9e70-00c8781d576a"
   },
   "outputs": [
    {
     "name": "stdout",
     "output_type": "stream",
     "text": [
      "  adding: FullyConnectedNets.ipynb (deflated 77%)\n",
      "  adding: deeplearning/ (stored 0%)\n",
      "  adding: deeplearning/__init__.py (stored 0%)\n",
      "  adding: deeplearning/classifiers/ (stored 0%)\n",
      "  adding: deeplearning/classifiers/fc_net.py (deflated 77%)\n",
      "  adding: deeplearning/data_utils.py (deflated 68%)\n",
      "  adding: deeplearning/gradient_check.py (deflated 68%)\n",
      "  adding: deeplearning/layer_utils.py (deflated 79%)\n",
      "  adding: deeplearning/layers.py (deflated 77%)\n",
      "  adding: deeplearning/optim.py (deflated 53%)\n",
      "  adding: deeplearning/setup.py (deflated 46%)\n",
      "  adding: deeplearning/solver.py (deflated 69%)\n",
      "  adding: deeplearning/vis_utils.py (deflated 65%)\n",
      "  adding: submission_logs/ (stored 0%)\n",
      "  adding: submission_logs/train_2layer_fc.npz (deflated 8%)\n",
      "  adding: submission_logs/overfit_3layer_fc.npz (deflated 45%)\n",
      "  adding: submission_logs/overfit_5layer_fc.npz (deflated 51%)\n"
     ]
    }
   ],
   "source": [
    "!rm -f cs182hw1_submission.zip\n",
    "!zip -r cs182hw1_submission.zip . -x \"*.git*\" \"*deeplearning/datasets*\" \"*.ipynb_checkpoints*\" \"*README.md\" \".env/*\" \"*.pyc\" \"*deeplearning/build/*\" \"*__pycache__/*\""
   ]
  },
  {
   "cell_type": "markdown",
   "metadata": {
    "id": "EiokCnAV-mva"
   },
   "source": [
    "# Question: \n",
    "Did you notice anything about the comparative difficulty of training the three-layer net vs training the five layer net?\n",
    "\n",
    "**Please include your response in the written assignment submission.**\n"
   ]
  }
 ],
 "metadata": {
  "colab": {
   "provenance": []
  },
  "kernelspec": {
   "display_name": "Python 3 (ipykernel)",
   "language": "python",
   "name": "python3"
  },
  "language_info": {
   "codemirror_mode": {
    "name": "ipython",
    "version": 3
   },
   "file_extension": ".py",
   "mimetype": "text/x-python",
   "name": "python",
   "nbconvert_exporter": "python",
   "pygments_lexer": "ipython3",
   "version": "3.8.16"
  }
 },
 "nbformat": 4,
 "nbformat_minor": 1
}
