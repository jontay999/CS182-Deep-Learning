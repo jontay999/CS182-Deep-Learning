{
  "cells": [
    {
      "cell_type": "markdown",
      "metadata": {
        "id": "i4WHdZ__C56g"
      },
      "source": [
        "# Setup Environment\n",
        "\n",
        "If you are working on this assignment using Google Colab, please execute the codes below."
      ]
    },
    {
      "cell_type": "code",
      "execution_count": 1,
      "metadata": {
        "colab": {
          "base_uri": "https://localhost:8080/"
        },
        "id": "G_8KS-rTC56i",
        "outputId": "467f0a18-309e-480d-d3aa-332f0b8a5c11"
      },
      "outputs": [
        {
          "output_type": "stream",
          "name": "stdout",
          "text": [
            "Mounted at /content/gdrive\n"
          ]
        }
      ],
      "source": [
        "#@title Mount your Google Drive\n",
        "\n",
        "import os\n",
        "from google.colab import drive\n",
        "drive.mount('/content/gdrive')"
      ]
    },
    {
      "cell_type": "code",
      "execution_count": 2,
      "metadata": {
        "id": "xS4lmkZ6C56j"
      },
      "outputs": [],
      "source": [
        "#@title Set up mount symlink\n",
        "\n",
        "DRIVE_PATH = '/content/gdrive/My\\ Drive/cs182hw3_sp23'\n",
        "DRIVE_PYTHON_PATH = DRIVE_PATH.replace('\\\\', '')\n",
        "if not os.path.exists(DRIVE_PYTHON_PATH):\n",
        "  %mkdir $DRIVE_PATH\n",
        "\n",
        "## the space in `My Drive` causes some issues,\n",
        "## make a symlink to avoid this\n",
        "SYM_PATH = '/content/cs182hw3'\n",
        "if not os.path.exists(SYM_PATH):\n",
        "  !ln -s $DRIVE_PATH $SYM_PATH"
      ]
    },
    {
      "cell_type": "code",
      "execution_count": 3,
      "metadata": {
        "colab": {
          "base_uri": "https://localhost:8080/"
        },
        "id": "PQ2FU_WBC56k",
        "outputId": "1dac812d-9d50-457e-b22b-bdec4d2b6448"
      },
      "outputs": [
        {
          "output_type": "stream",
          "name": "stdout",
          "text": [
            "Looking in indexes: https://pypi.org/simple, https://us-python.pkg.dev/colab-wheels/public/simple/\n",
            "Requirement already satisfied: numpy==1.21.6 in /usr/local/lib/python3.8/dist-packages (1.21.6)\n",
            "Requirement already satisfied: imageio==2.9.0 in /usr/local/lib/python3.8/dist-packages (2.9.0)\n",
            "Requirement already satisfied: matplotlib==3.2.2 in /usr/local/lib/python3.8/dist-packages (3.2.2)\n",
            "Requirement already satisfied: pillow in /usr/local/lib/python3.8/dist-packages (from imageio==2.9.0) (7.1.2)\n",
            "Requirement already satisfied: python-dateutil>=2.1 in /usr/local/lib/python3.8/dist-packages (from matplotlib==3.2.2) (2.8.2)\n",
            "Requirement already satisfied: cycler>=0.10 in /usr/local/lib/python3.8/dist-packages (from matplotlib==3.2.2) (0.11.0)\n",
            "Requirement already satisfied: pyparsing!=2.0.4,!=2.1.2,!=2.1.6,>=2.0.1 in /usr/local/lib/python3.8/dist-packages (from matplotlib==3.2.2) (3.0.9)\n",
            "Requirement already satisfied: kiwisolver>=1.0.1 in /usr/local/lib/python3.8/dist-packages (from matplotlib==3.2.2) (1.4.4)\n",
            "Requirement already satisfied: six>=1.5 in /usr/local/lib/python3.8/dist-packages (from python-dateutil>=2.1->matplotlib==3.2.2) (1.15.0)\n"
          ]
        }
      ],
      "source": [
        "#@title Install dependencies\n",
        "\n",
        "!pip install numpy==1.21.6 imageio==2.9.0 matplotlib==3.2.2"
      ]
    },
    {
      "cell_type": "code",
      "execution_count": 4,
      "metadata": {
        "colab": {
          "base_uri": "https://localhost:8080/"
        },
        "id": "hdMX_YSwC56k",
        "outputId": "3beb181d-cdde-4f0b-d7fb-97c30f3aaecb"
      },
      "outputs": [
        {
          "output_type": "stream",
          "name": "stdout",
          "text": [
            "/content/gdrive/My Drive/cs182hw3_sp23\n",
            "/content/gdrive/My Drive/cs182hw3_sp23/cs182hw3\n"
          ]
        }
      ],
      "source": [
        "#@title Clone homework repo\n",
        "\n",
        "%cd $SYM_PATH\n",
        "if not os.path.exists(\"cs182hw3\"):\n",
        "  !git clone https://github.com/Berkeley-CS182/cs182hw3.git\n",
        "%cd cs182hw3"
      ]
    },
    {
      "cell_type": "code",
      "execution_count": 5,
      "metadata": {
        "id": "6gy5i-3qC56k"
      },
      "outputs": [],
      "source": [
        "#@title Configure Jupyter Notebook\n",
        "\n",
        "import matplotlib\n",
        "%matplotlib inline\n",
        "%load_ext autoreload\n",
        "%autoreload 2"
      ]
    },
    {
      "cell_type": "markdown",
      "metadata": {
        "id": "QIhRwTgaC56k"
      },
      "source": [
        "# Train Convolutional Neural Networks using PyTorch\n",
        "\n",
        "In this notebook we will put everything together you've learned: affine layers, relu layers, conv layers, max-pooling, (spatial) batch norm, and dropout, and train CNNs on CIFAR-100.\n",
        "\n",
        "However, our implementation of these modules in NumPy are quite inefficient---especially convolutional layers. Therefore, we use PyTorch with GPU in this coding assignment.\n",
        "\n",
        "Make sure you have access to GPUs when running this notebook. On Google Colab, you can switch to a GPU runtime by clicking \"Runtime\" - \"Change Runtime Type\" - \"GPU\" in the menu on the top of the webpage."
      ]
    },
    {
      "cell_type": "code",
      "execution_count": 6,
      "metadata": {
        "id": "Z_rZvgv1C56l"
      },
      "outputs": [],
      "source": [
        "import os\n",
        "import json\n",
        "import numpy as np\n",
        "import torch\n",
        "import torch.nn as nn\n",
        "import torch.nn.functional as F\n",
        "import torch.utils as utils\n",
        "import torch.optim as optim\n",
        "import torchvision\n",
        "from torchvision import datasets, transforms\n",
        "import matplotlib.pyplot as plt\n",
        "\n",
        "os.makedirs(\"submission_logs\", exist_ok=True)"
      ]
    },
    {
      "cell_type": "code",
      "execution_count": 7,
      "metadata": {
        "colab": {
          "base_uri": "https://localhost:8080/"
        },
        "id": "84LOZj5nC56l",
        "outputId": "5695d939-8cfd-4cb0-834a-71c69229711e"
      },
      "outputs": [
        {
          "output_type": "execute_result",
          "data": {
            "text/plain": [
              "True"
            ]
          },
          "metadata": {},
          "execution_count": 7
        }
      ],
      "source": [
        "torch.cuda.is_available()\n",
        "# make sure GPU is enabled"
      ]
    },
    {
      "cell_type": "code",
      "execution_count": 8,
      "metadata": {
        "id": "3OJCFYi8C56l"
      },
      "outputs": [],
      "source": [
        "seed = 227"
      ]
    },
    {
      "cell_type": "markdown",
      "metadata": {
        "id": "k2xtqaM2C56l"
      },
      "source": [
        "## Load and Visualize Data",
        "\n",
        "In this cell, we load and visualize the CIFAR100 dataset. Note that we apply data augmentation (random horizontal flip) to the training dataset:",
        "\n",
        "```python",
        "transforms.RandomHorizontalFlip()",
        "```",
        "\n",
        "Data augmentation is a popular technique in machine learning and computer vision that involves generating additional training data to improve the performance of a model. One common form of data augmentation for image data is random horizontal flipping, which involves flipping an image horizontally with a 50% chance during training. This technique is often used to increase the variability of the training data and to help the model generalize better to new, unseen images. By randomly flipping images, the model is exposed to a wider range of orientations and can better learn to recognize features that are invariant to horizontal flipping."
      ]
    },
    {
      "cell_type": "code",
      "execution_count": 9,
      "metadata": {
        "colab": {
          "base_uri": "https://localhost:8080/",
          "height": 102,
          "referenced_widgets": [
            "1d8daad357be472488d51a39b560b90a",
            "c46db8868f4245f9bd4615ab9cc00bcd",
            "7190cfb689314bbb8f889a2e11154ac5",
            "6145ceafdad54222a31ecca3302ef53b",
            "fe55383dbcc142d6acd0ba86c28a54a9",
            "83f91d71e077491ab2580be37009225a",
            "56baa36ec980414884bcabadc5e6b5f5",
            "21386e0df938440380fd731744b77adc",
            "2a3c7f1caa3c447280fbc0a938a3a1fe",
            "deb8d42ca6814fc5a7331d6d31efae44",
            "d23d6cd3bfd84746b56f04cfe4dc3a0c"
          ]
        },
        "id": "GTqTEnt5C56m",
        "outputId": "f750bc89-4b44-439b-8c56-c4435761dd31"
      },
      "outputs": [
        {
          "output_type": "stream",
          "name": "stdout",
          "text": [
            "Downloading https://www.cs.toronto.edu/~kriz/cifar-100-python.tar.gz to data/cifar-100-python.tar.gz\n"
          ]
        },
        {
          "output_type": "display_data",
          "data": {
            "text/plain": [
              "  0%|          | 0/169001437 [00:00<?, ?it/s]"
            ],
            "application/vnd.jupyter.widget-view+json": {
              "version_major": 2,
              "version_minor": 0,
              "model_id": "1d8daad357be472488d51a39b560b90a"
            }
          },
          "metadata": {}
        },
        {
          "output_type": "stream",
          "name": "stdout",
          "text": [
            "Extracting data/cifar-100-python.tar.gz to data\n",
            "Files already downloaded and verified\n"
          ]
        }
      ],
      "source": [
        "valid_test_transform = transforms.Compose(\n",
        "    [\n",
        "        transforms.ToTensor(),   # convert image to PyTorch Tensor\n",
        "        transforms.Normalize((0.5, 0.5, 0.5), (0.5, 0.5, 0.5))\n",
        "        # normalize to [-1.0, 1.0] (originally [0.0, 1.0])\n",
        "    ]\n",
        ")\n",
        "\n",
        "train_transform = transforms.Compose(\n",
        "    [\n",
        "        transforms.ToTensor(),\n",
        "        transforms.Normalize((0.5, 0.5, 0.5), (0.5, 0.5, 0.5)),\n",
        "        transforms.RandomHorizontalFlip()   # data augmentation\n",
        "    ]\n",
        ")\n",
        "\n",
        "# Download training data from open datasets.\n",
        "training_data = datasets.CIFAR100(\n",
        "    root=\"data\",\n",
        "    train=True,\n",
        "    download=True,\n",
        "    transform=train_transform,\n",
        ")\n",
        "\n",
        "# Download test data from open datasets.\n",
        "valid_test_data = datasets.CIFAR100(\n",
        "    root=\"data\",\n",
        "    train=False,\n",
        "    download=True,\n",
        "    transform=valid_test_transform,\n",
        ")\n",
        "\n",
        "# split original test data to valid data and test data\n",
        "valid_data = list(valid_test_data)[::2]\n",
        "test_data = list(valid_test_data)[1::2]\n",
        "\n",
        "classes = [\n",
        "    \"apple\",\n",
        "    \"aquarium_fish\",\n",
        "    \"baby\",\n",
        "    \"bear\",\n",
        "    \"beaver\",\n",
        "    \"bed\",\n",
        "    \"bee\",\n",
        "    \"beetle\",\n",
        "    \"bicycle\",\n",
        "    \"bottle\",\n",
        "    \"bowl\",\n",
        "    \"boy\",\n",
        "    \"bridge\",\n",
        "    \"bus\",\n",
        "    \"butterfly\",\n",
        "    \"camel\",\n",
        "    \"can\",\n",
        "    \"castle\",\n",
        "    \"caterpillar\",\n",
        "    \"cattle\",\n",
        "    \"chair\",\n",
        "    \"chimpanzee\",\n",
        "    \"clock\",\n",
        "    \"cloud\",\n",
        "    \"cockroach\",\n",
        "    \"couch\",\n",
        "    \"cra\",\n",
        "    \"crocodile\",\n",
        "    \"cup\",\n",
        "    \"dinosaur\",\n",
        "    \"dolphin\",\n",
        "    \"elephant\",\n",
        "    \"flatfish\",\n",
        "    \"forest\",\n",
        "    \"fox\",\n",
        "    \"girl\",\n",
        "    \"hamster\",\n",
        "    \"house\",\n",
        "    \"kangaroo\",\n",
        "    \"keyboard\",\n",
        "    \"lamp\",\n",
        "    \"lawn_mower\",\n",
        "    \"leopard\",\n",
        "    \"lion\",\n",
        "    \"lizard\",\n",
        "    \"lobster\",\n",
        "    \"man\",\n",
        "    \"maple_tree\",\n",
        "    \"motorcycle\",\n",
        "    \"mountain\",\n",
        "    \"mouse\",\n",
        "    \"mushroom\",\n",
        "    \"oak_tree\",\n",
        "    \"orange\",\n",
        "    \"orchid\",\n",
        "    \"otter\",\n",
        "    \"palm_tree\",\n",
        "    \"pear\",\n",
        "    \"pickup_truck\",\n",
        "    \"pine_tree\",\n",
        "    \"plain\",\n",
        "    \"plate\",\n",
        "    \"poppy\",\n",
        "    \"porcupine\",\n",
        "    \"possum\",\n",
        "    \"rabbit\",\n",
        "    \"raccoon\",\n",
        "    \"ray\",\n",
        "    \"road\",\n",
        "    \"rocket\",\n",
        "    \"rose\",\n",
        "    \"sea\",\n",
        "    \"seal\",\n",
        "    \"shark\",\n",
        "    \"shrew\",\n",
        "    \"skunk\",\n",
        "    \"skyscraper\",\n",
        "    \"snail\",\n",
        "    \"snake\",\n",
        "    \"spider\",\n",
        "    \"squirrel\",\n",
        "    \"streetcar\",\n",
        "    \"sunflower\",\n",
        "    \"sweet_pepper\",\n",
        "    \"table\",\n",
        "    \"tank\",\n",
        "    \"telephone\",\n",
        "    \"television\",\n",
        "    \"tiger\",\n",
        "    \"tractor\",\n",
        "    \"train\",\n",
        "    \"trout\",\n",
        "    \"tulip\",\n",
        "    \"turtle\",\n",
        "    \"wardrobe\",\n",
        "    \"whale\",\n",
        "    \"willow_tree\",\n",
        "    \"wolf\",\n",
        "    \"woman\",\n",
        "    \"worm\",\n",
        "]"
      ]
    },
    {
      "cell_type": "code",
      "execution_count": 10,
      "metadata": {
        "colab": {
          "base_uri": "https://localhost:8080/"
        },
        "id": "uHbKeVhTC56m",
        "outputId": "8fa8a656-d3c0-4c86-ad8c-dca5b3812710"
      },
      "outputs": [
        {
          "output_type": "stream",
          "name": "stdout",
          "text": [
            "Shape of X [N, C, H, W]: torch.Size([5, 3, 32, 32])\n",
            "Shape of y: torch.Size([5]) torch.int64\n"
          ]
        }
      ],
      "source": [
        "# Create data loaders.\n",
        "valid_dataloader = utils.data.DataLoader(valid_data, batch_size=5)\n",
        "\n",
        "for X, y in valid_dataloader:\n",
        "    print(f\"Shape of X [N, C, H, W]: {X.shape}\")\n",
        "    print(f\"Shape of y: {y.shape} {y.dtype}\")\n",
        "    break"
      ]
    },
    {
      "cell_type": "markdown",
      "metadata": {
        "id": "QHSjJdoQC56m"
      },
      "source": [
        "Here is a visualization of 5 images in the validation dataset:"
      ]
    },
    {
      "cell_type": "code",
      "execution_count": 11,
      "metadata": {
        "colab": {
          "base_uri": "https://localhost:8080/",
          "height": 139
        },
        "id": "tA51MnYlC56m",
        "outputId": "a3ce8df2-e87a-4470-c895-5ab9e773dd3c"
      },
      "outputs": [
        {
          "output_type": "display_data",
          "data": {
            "text/plain": [
              "<Figure size 432x288 with 1 Axes>"
            ],
            "image/png": "[encoded data removed]"
          },
          "metadata": {
            "needs_background": "light"
          }
        },
        {
          "output_type": "stream",
          "name": "stdout",
          "text": [
            "mountain   seal    sea     camel   cloud\n"
          ]
        }
      ],
      "source": [
        "# functions to show an image\n",
        "\n",
        "\n",
        "def imshow(img):\n",
        "    img = img / 2 + 0.5     # unnormalize\n",
        "    npimg = img.numpy()\n",
        "    plt.imshow(np.transpose(npimg, (1, 2, 0)))\n",
        "    plt.show()\n",
        "\n",
        "\n",
        "# get some random training images\n",
        "dataiter = iter(valid_dataloader)\n",
        "images, labels = next(dataiter)\n",
        "\n",
        "# show images\n",
        "imshow(torchvision.utils.make_grid(images))\n",
        "# print labels\n",
        "print('   '.join(f'{classes[labels[j]]:5s}' for j in range(5)))"
      ]
    },
    {
      "cell_type": "markdown",
      "metadata": {
        "id": "osvoNWgXC56n"
      },
      "source": [
        "## Define the Neural Network Architecture\n",
        "\n",
        "**Complete the code in `dl_pytorch/model.py`** to finish the implementation of a convolutional neural network with batch normalization and dropout."
      ]
    },
    {
      "cell_type": "code",
      "execution_count": 12,
      "metadata": {
        "colab": {
          "base_uri": "https://localhost:8080/"
        },
        "id": "pX_JR7smC56n",
        "outputId": "40db07da-c132-4ac1-8dbf-deca7a308687"
      },
      "outputs": [
        {
          "output_type": "stream",
          "name": "stdout",
          "text": [
            "NeuralNetwork(\n",
            "  (conv1): Conv2d(3, 16, kernel_size=(3, 3), stride=(1, 1), padding=(1, 1))\n",
            "  (relu1): ReLU()\n",
            "  (pool1): MaxPool2d(kernel_size=2, stride=2, padding=0, dilation=1, ceil_mode=False)\n",
            "  (conv2): Conv2d(16, 32, kernel_size=(3, 3), stride=(1, 1), padding=(1, 1))\n",
            "  (relu2): ReLU()\n",
            "  (pool2): MaxPool2d(kernel_size=2, stride=2, padding=0, dilation=1, ceil_mode=False)\n",
            "  (conv3): Conv2d(32, 64, kernel_size=(3, 3), stride=(2, 2), padding=(1, 1))\n",
            "  (relu3): ReLU()\n",
            "  (fc1): Linear(in_features=1024, out_features=256, bias=True)\n",
            "  (relu4): ReLU()\n",
            "  (fc2): Linear(in_features=256, out_features=100, bias=True)\n",
            ")\n"
          ]
        }
      ],
      "source": [
        "from dl_pytorch.model import NeuralNetwork\n",
        "\n",
        "model = NeuralNetwork()\n",
        "print(model)\n",
        "\n",
        "assert len(model.state_dict()) == 10\n",
        "assert model.conv1.weight.shape == torch.Size([16, 3, 3, 3])\n",
        "assert model.conv1.bias.shape == torch.Size([16])\n",
        "assert model.conv2.weight.shape == torch.Size([32, 16, 3, 3])\n",
        "assert model.conv2.bias.shape == torch.Size([32])\n",
        "assert model.conv3.weight.shape == torch.Size([64, 32, 3, 3])\n",
        "assert model.conv3.bias.shape == torch.Size([64])\n",
        "assert model.fc1.weight.shape == torch.Size([256, 1024])\n",
        "assert model.fc1.bias.shape == torch.Size([256])\n",
        "assert model.fc2.weight.shape == torch.Size([100, 256])\n",
        "assert model.fc2.bias.shape == torch.Size([100])\n",
        "assert model(torch.randn(9, 3, 32, 32)).shape == torch.Size([9, 100])\n",
        "\n",
        "model = NeuralNetwork(do_batchnorm=True, p_dropout=0.1)\n",
        "assert len(model.state_dict()) == 25\n",
        "assert model.bn1.weight.shape == model.bn1.bias.shape == torch.Size([16])\n",
        "assert model.bn2.weight.shape == model.bn2.bias.shape == torch.Size([32])\n",
        "assert model.bn3.weight.shape == model.bn3.bias.shape == torch.Size([64])\n",
        "assert model(torch.randn(11, 3, 32, 32)).shape == torch.Size([11, 100])"
      ]
    },
    {
      "cell_type": "markdown",
      "metadata": {
        "id": "f9BlOdQAC56n"
      },
      "source": [
        "## Train the Neural Network\n",
        "\n",
        "Complete the code cells below to train your neural network."
      ]
    },
    {
      "cell_type": "code",
      "execution_count": 15,
      "metadata": {
        "id": "OCXYvye8C56n"
      },
      "outputs": [],
      "source": [
        "def train(dataloader, model, loss_fn, optimizer):\n",
        "    size = len(dataloader.dataset)\n",
        "    model.train()\n",
        "    for batch, (X, y) in enumerate(dataloader):\n",
        "        X, y = X.cuda(), y.cuda()\n",
        "\n",
        "        pred = model(X)\n",
        "        loss = loss_fn(pred, y)\n",
        "\n",
        "        ########################################################################\n",
        "        # TODO: complete the following code for backpropagation and gradient\n",
        "        #  update of a single step.\n",
        "        # Hint: 3 lines\n",
        "        ########################################################################\n",
        "        optimizer.zero_grad()\n",
        "        loss.backward()\n",
        "        optimizer.step()\n",
        "        ########################################################################\n",
        "\n",
        "        if batch % 100 == 0:\n",
        "            loss, current = loss.item(), batch * len(X)\n",
        "            print(f\"loss: {loss:>7f}  [{current:>5d}/{size:>5d}]\")"
      ]
    },
    {
      "cell_type": "code",
      "execution_count": 16,
      "metadata": {
        "id": "elhZKyV1C56n"
      },
      "outputs": [],
      "source": [
        "def test(dataloader, model, loss_fn):\n",
        "    size = len(dataloader.dataset)\n",
        "    num_batches = len(dataloader)\n",
        "    model.eval()\n",
        "    test_loss, correct = 0, 0\n",
        "    with torch.no_grad():\n",
        "        for X, y in dataloader:\n",
        "            X, y = X.cuda(), y.cuda()\n",
        "            pred = model(X)\n",
        "            test_loss += loss_fn(pred, y).item()\n",
        "            correct += (pred.argmax(1) == y).type(torch.float).sum().item()\n",
        "    test_loss /= num_batches\n",
        "    correct /= size\n",
        "    print(f\"Evaluation Error: \\n Accuracy: {(100*correct):>0.1f}%, Avg loss: {test_loss:>8f} \\n\")\n",
        "    return 100*correct"
      ]
    },
    {
      "cell_type": "code",
      "execution_count": 17,
      "metadata": {
        "id": "42IKemOiC56n"
      },
      "outputs": [],
      "source": [
        "def get_optimizer(params, optim_type, lr, momentum, lr_decay, l2_reg):\n",
        "    if optim_type == \"sgd\":\n",
        "        optimizer = optim.SGD(params, lr=lr, momentum=0.0, weight_decay=l2_reg)\n",
        "    elif optim_type == \"sgd_momentum\":\n",
        "        optimizer = optim.SGD(params, lr=lr, momentum=momentum,\n",
        "                              weight_decay=l2_reg)\n",
        "    elif optim_type == \"adam\":\n",
        "        optimizer = optim.AdamW(params, lr=lr, betas=(momentum, 0.999),\n",
        "                                weight_decay=l2_reg)\n",
        "    else:\n",
        "        raise ValueError(optim_type)\n",
        "    scheduler = optim.lr_scheduler.ExponentialLR(optimizer, lr_decay)\n",
        "    return optimizer, scheduler"
      ]
    },
    {
      "cell_type": "markdown",
      "metadata": {
        "id": "MCyLp0HgC56n"
      },
      "source": [
        "Train the neural network. It should achieve at least 35% accuracy on the test set."
      ]
    },
    {
      "cell_type": "code",
      "execution_count": 18,
      "metadata": {
        "id": "d44NtHuIC56o"
      },
      "outputs": [],
      "source": [
        "def run_training(hp, nn_cls, save_prefix):\n",
        "    print(\"Hyperparameters:\", hp)\n",
        "    torch.manual_seed(seed)\n",
        "    torch.cuda.manual_seed(seed)\n",
        "    np.random.seed(seed)\n",
        "\n",
        "    model = nn_cls(do_batchnorm=hp.do_batchnorm, p_dropout=hp.p_dropout).cuda()\n",
        "\n",
        "    # Create data loaders.\n",
        "    train_dataloader = utils.data.DataLoader(\n",
        "        training_data, batch_size=hp.batch_size)\n",
        "    valid_dataloader = utils.data.DataLoader(\n",
        "        valid_data, batch_size=hp.batch_size)\n",
        "    \n",
        "    loss_fn = nn.CrossEntropyLoss()\n",
        "    optimizer, scheduler = get_optimizer(\n",
        "        model.parameters(), hp.optim_type, hp.lr, hp.momentum, hp.lr_decay,\n",
        "        hp.l2_reg)\n",
        "    \n",
        "    for t in range(hp.epochs):\n",
        "        print(f\"Epoch {t+1}\\n-------------------------------\")\n",
        "        train(train_dataloader, model, loss_fn, optimizer)\n",
        "        test(valid_dataloader, model, loss_fn)\n",
        "        scheduler.step()\n",
        "\n",
        "    \n",
        "    print(f\"Saving the model to submission_logs/{save_prefix}.pt\")\n",
        "    torch.save(model.state_dict(), f\"submission_logs/{save_prefix}.pt\")\n",
        "    return model\n",
        "\n",
        "def eval_on_test(hp, model, save_prefix):\n",
        "    train_dataloader = utils.data.DataLoader(\n",
        "        training_data, batch_size=hp.batch_size)\n",
        "    test_dataloader = utils.data.DataLoader(\n",
        "        test_data, batch_size=hp.batch_size)\n",
        "    loss_fn = nn.CrossEntropyLoss()\n",
        "    print(\"Evaluating on the test set\")\n",
        "    test_acc = test(test_dataloader, model, loss_fn)\n",
        "    n_params = sum(p.numel() for p in model.parameters())\n",
        "    print(\"Parameter count: {}\".format(n_params))\n",
        "    n_steps = len(train_dataloader) * hp.epochs\n",
        "    print(\"Training steps: {}\".format(n_steps))\n",
        "    with open(f\"submission_logs/{save_prefix}.json\", \"w\", encoding=\"utf-8\") as f:\n",
        "        json.dump({\n",
        "            \"test_acc\": test_acc,\n",
        "            \"hparams\": hp.__dict__,\n",
        "            \"n_params\": n_params,\n",
        "            \"n_steps\": n_steps\n",
        "        }, f)"
      ]
    },
    {
      "cell_type": "code",
      "execution_count": 19,
      "metadata": {
        "colab": {
          "base_uri": "https://localhost:8080/"
        },
        "id": "vIEeMPL1C56o",
        "outputId": "84ba0a3f-2e8a-40be-824f-b981c8f714e5"
      },
      "outputs": [
        {
          "output_type": "stream",
          "name": "stdout",
          "text": [
            "Hyperparameters: Namespace(batch_size=32, do_batchnorm=False, epochs=5, l2_reg=0.0, lr=0.001, lr_decay=0.99, momentum=0.9, optim_type='adam', p_dropout=0.0)\n",
            "Epoch 1\n",
            "-------------------------------\n",
            "loss: 4.607782  [    0/50000]\n",
            "loss: 4.338592  [ 3200/50000]\n",
            "loss: 4.088682  [ 6400/50000]\n",
            "loss: 3.772011  [ 9600/50000]\n",
            "loss: 3.786103  [12800/50000]\n",
            "loss: 4.372434  [16000/50000]\n",
            "loss: 3.318334  [19200/50000]\n",
            "loss: 3.972894  [22400/50000]\n",
            "loss: 3.278667  [25600/50000]\n",
            "loss: 3.663373  [28800/50000]\n",
            "loss: 3.213702  [32000/50000]\n",
            "loss: 3.367341  [35200/50000]\n",
            "loss: 3.254165  [38400/50000]\n",
            "loss: 3.477012  [41600/50000]\n",
            "loss: 2.768730  [44800/50000]\n",
            "loss: 3.138325  [48000/50000]\n",
            "Evaluation Error: \n",
            " Accuracy: 23.4%, Avg loss: 3.120963 \n",
            "\n",
            "Epoch 2\n",
            "-------------------------------\n",
            "loss: 3.136131  [    0/50000]\n",
            "loss: 3.421011  [ 3200/50000]\n",
            "loss: 3.315967  [ 6400/50000]\n",
            "loss: 3.062536  [ 9600/50000]\n",
            "loss: 2.703354  [12800/50000]\n",
            "loss: 3.400100  [16000/50000]\n",
            "loss: 2.725698  [19200/50000]\n",
            "loss: 3.356939  [22400/50000]\n",
            "loss: 2.747754  [25600/50000]\n",
            "loss: 3.092686  [28800/50000]\n",
            "loss: 2.784572  [32000/50000]\n",
            "loss: 2.727351  [35200/50000]\n",
            "loss: 2.883851  [38400/50000]\n",
            "loss: 3.256372  [41600/50000]\n",
            "loss: 2.491414  [44800/50000]\n",
            "loss: 2.806593  [48000/50000]\n",
            "Evaluation Error: \n",
            " Accuracy: 30.3%, Avg loss: 2.795232 \n",
            "\n",
            "Epoch 3\n",
            "-------------------------------\n",
            "loss: 3.103530  [    0/50000]\n",
            "loss: 3.309546  [ 3200/50000]\n",
            "loss: 3.079555  [ 6400/50000]\n",
            "loss: 2.652322  [ 9600/50000]\n",
            "loss: 2.503956  [12800/50000]\n",
            "loss: 2.796402  [16000/50000]\n",
            "loss: 2.362106  [19200/50000]\n",
            "loss: 3.194293  [22400/50000]\n",
            "loss: 2.294779  [25600/50000]\n",
            "loss: 2.595905  [28800/50000]\n",
            "loss: 2.494623  [32000/50000]\n",
            "loss: 2.481041  [35200/50000]\n",
            "loss: 2.436251  [38400/50000]\n",
            "loss: 3.119458  [41600/50000]\n",
            "loss: 2.004680  [44800/50000]\n",
            "loss: 2.708426  [48000/50000]\n",
            "Evaluation Error: \n",
            " Accuracy: 33.5%, Avg loss: 2.650498 \n",
            "\n",
            "Epoch 4\n",
            "-------------------------------\n",
            "loss: 2.904425  [    0/50000]\n",
            "loss: 3.076627  [ 3200/50000]\n",
            "loss: 2.985157  [ 6400/50000]\n",
            "loss: 2.431225  [ 9600/50000]\n",
            "loss: 2.450255  [12800/50000]\n",
            "loss: 2.366467  [16000/50000]\n",
            "loss: 2.181617  [19200/50000]\n",
            "loss: 2.964113  [22400/50000]\n",
            "loss: 2.291125  [25600/50000]\n",
            "loss: 2.426226  [28800/50000]\n",
            "loss: 2.248254  [32000/50000]\n",
            "loss: 2.387141  [35200/50000]\n",
            "loss: 2.251077  [38400/50000]\n",
            "loss: 2.629653  [41600/50000]\n",
            "loss: 1.979824  [44800/50000]\n",
            "loss: 2.362141  [48000/50000]\n",
            "Evaluation Error: \n",
            " Accuracy: 35.7%, Avg loss: 2.565426 \n",
            "\n",
            "Epoch 5\n",
            "-------------------------------\n",
            "loss: 2.528567  [    0/50000]\n",
            "loss: 3.022412  [ 3200/50000]\n",
            "loss: 2.782357  [ 6400/50000]\n",
            "loss: 2.159618  [ 9600/50000]\n",
            "loss: 2.202484  [12800/50000]\n",
            "loss: 2.268874  [16000/50000]\n",
            "loss: 1.985992  [19200/50000]\n",
            "loss: 2.754761  [22400/50000]\n",
            "loss: 2.193001  [25600/50000]\n",
            "loss: 2.121849  [28800/50000]\n",
            "loss: 2.299945  [32000/50000]\n",
            "loss: 2.168168  [35200/50000]\n",
            "loss: 2.059584  [38400/50000]\n",
            "loss: 2.352453  [41600/50000]\n",
            "loss: 1.749969  [44800/50000]\n",
            "loss: 2.307523  [48000/50000]\n",
            "Evaluation Error: \n",
            " Accuracy: 37.0%, Avg loss: 2.493343 \n",
            "\n",
            "Saving the model to submission_logs/model.pt\n",
            "Evaluating on the test set\n",
            "Evaluation Error: \n",
            " Accuracy: 37.4%, Avg loss: 2.498342 \n",
            "\n",
            "Parameter count: 311684\n",
            "Training steps: 7815\n"
          ]
        }
      ],
      "source": [
        "from dl_pytorch.hparams import HP as hp_base\n",
        "\n",
        "model = run_training(hp_base, NeuralNetwork, \"model\")\n",
        "eval_on_test(hp_base, model, \"model\")"
      ]
    },
    {
      "cell_type": "markdown",
      "metadata": {
        "id": "Wll6gWLaC56q"
      },
      "source": [
        "Train the neural network with batch norm and dropout. It should achieve at least 38% accuracy on the test set."
      ]
    },
    {
      "cell_type": "code",
      "execution_count": 20,
      "metadata": {
        "colab": {
          "base_uri": "https://localhost:8080/"
        },
        "id": "wwY0gW9kC56q",
        "outputId": "8d0a6e7c-8c90-4014-87fd-b18cb9d10c10"
      },
      "outputs": [
        {
          "output_type": "stream",
          "name": "stdout",
          "text": [
            "Hyperparameters: Namespace(batch_size=32, do_batchnorm=True, epochs=5, l2_reg=0.0, lr=0.001, lr_decay=0.99, momentum=0.9, optim_type='adam', p_dropout=0.2)\n",
            "Epoch 1\n",
            "-------------------------------\n",
            "loss: 4.662846  [    0/50000]\n",
            "loss: 4.140881  [ 3200/50000]\n",
            "loss: 3.924856  [ 6400/50000]\n",
            "loss: 3.540820  [ 9600/50000]\n",
            "loss: 3.335564  [12800/50000]\n",
            "loss: 3.757537  [16000/50000]\n",
            "loss: 3.163190  [19200/50000]\n",
            "loss: 3.669087  [22400/50000]\n",
            "loss: 3.267647  [25600/50000]\n",
            "loss: 3.399520  [28800/50000]\n",
            "loss: 3.172899  [32000/50000]\n",
            "loss: 3.015152  [35200/50000]\n",
            "loss: 2.828265  [38400/50000]\n",
            "loss: 3.153431  [41600/50000]\n",
            "loss: 3.043505  [44800/50000]\n",
            "loss: 2.828578  [48000/50000]\n",
            "Evaluation Error: \n",
            " Accuracy: 29.7%, Avg loss: 2.829384 \n",
            "\n",
            "Epoch 2\n",
            "-------------------------------\n",
            "loss: 3.315791  [    0/50000]\n",
            "loss: 3.000919  [ 3200/50000]\n",
            "loss: 3.332176  [ 6400/50000]\n",
            "loss: 2.885189  [ 9600/50000]\n",
            "loss: 2.533549  [12800/50000]\n",
            "loss: 2.968091  [16000/50000]\n",
            "loss: 2.760545  [19200/50000]\n",
            "loss: 2.993144  [22400/50000]\n",
            "loss: 2.417721  [25600/50000]\n",
            "loss: 2.902995  [28800/50000]\n",
            "loss: 2.734791  [32000/50000]\n",
            "loss: 2.764782  [35200/50000]\n",
            "loss: 2.494959  [38400/50000]\n",
            "loss: 2.695979  [41600/50000]\n",
            "loss: 2.342464  [44800/50000]\n",
            "loss: 2.370899  [48000/50000]\n",
            "Evaluation Error: \n",
            " Accuracy: 35.8%, Avg loss: 2.536839 \n",
            "\n",
            "Epoch 3\n",
            "-------------------------------\n",
            "loss: 2.793005  [    0/50000]\n",
            "loss: 2.707748  [ 3200/50000]\n",
            "loss: 3.085949  [ 6400/50000]\n",
            "loss: 2.846797  [ 9600/50000]\n",
            "loss: 2.249361  [12800/50000]\n",
            "loss: 2.516987  [16000/50000]\n",
            "loss: 2.298411  [19200/50000]\n",
            "loss: 2.861345  [22400/50000]\n",
            "loss: 2.475730  [25600/50000]\n",
            "loss: 2.561606  [28800/50000]\n",
            "loss: 2.278283  [32000/50000]\n",
            "loss: 3.105872  [35200/50000]\n",
            "loss: 2.083829  [38400/50000]\n",
            "loss: 3.012902  [41600/50000]\n",
            "loss: 2.271406  [44800/50000]\n",
            "loss: 2.301086  [48000/50000]\n",
            "Evaluation Error: \n",
            " Accuracy: 38.5%, Avg loss: 2.368887 \n",
            "\n",
            "Epoch 4\n",
            "-------------------------------\n",
            "loss: 2.954511  [    0/50000]\n",
            "loss: 2.486068  [ 3200/50000]\n",
            "loss: 2.828049  [ 6400/50000]\n",
            "loss: 2.561084  [ 9600/50000]\n",
            "loss: 2.198531  [12800/50000]\n",
            "loss: 2.401232  [16000/50000]\n",
            "loss: 2.102936  [19200/50000]\n",
            "loss: 2.826739  [22400/50000]\n",
            "loss: 2.164819  [25600/50000]\n",
            "loss: 2.337864  [28800/50000]\n",
            "loss: 2.404050  [32000/50000]\n",
            "loss: 2.625406  [35200/50000]\n",
            "loss: 1.956967  [38400/50000]\n",
            "loss: 2.531664  [41600/50000]\n",
            "loss: 1.960290  [44800/50000]\n",
            "loss: 1.985734  [48000/50000]\n",
            "Evaluation Error: \n",
            " Accuracy: 39.8%, Avg loss: 2.350813 \n",
            "\n",
            "Epoch 5\n",
            "-------------------------------\n",
            "loss: 2.718991  [    0/50000]\n",
            "loss: 2.410945  [ 3200/50000]\n",
            "loss: 2.758007  [ 6400/50000]\n",
            "loss: 2.385698  [ 9600/50000]\n",
            "loss: 2.207809  [12800/50000]\n",
            "loss: 2.236510  [16000/50000]\n",
            "loss: 2.143269  [19200/50000]\n",
            "loss: 2.720347  [22400/50000]\n",
            "loss: 2.098385  [25600/50000]\n",
            "loss: 2.235147  [28800/50000]\n",
            "loss: 2.063634  [32000/50000]\n",
            "loss: 2.691201  [35200/50000]\n",
            "loss: 1.974109  [38400/50000]\n",
            "loss: 2.370657  [41600/50000]\n",
            "loss: 1.895205  [44800/50000]\n",
            "loss: 2.073954  [48000/50000]\n",
            "Evaluation Error: \n",
            " Accuracy: 41.0%, Avg loss: 2.270458 \n",
            "\n",
            "Saving the model to submission_logs/model_bn_drop.pt\n",
            "Evaluating on the test set\n",
            "Evaluation Error: \n",
            " Accuracy: 41.4%, Avg loss: 2.228288 \n",
            "\n",
            "Parameter count: 311908\n",
            "Training steps: 7815\n"
          ]
        }
      ],
      "source": [
        "from dl_pytorch.hparams_bn_drop import HP as hp_bn_drop\n",
        "\n",
        "model = run_training(hp_bn_drop, NeuralNetwork, \"model_bn_drop\")\n",
        "eval_on_test(hp_bn_drop, model, \"model_bn_drop\")"
      ]
    },
    {
      "cell_type": "markdown",
      "metadata": {
        "id": "q3qAJQTsC56q"
      },
      "source": [
        "## Design your own neural network\n",
        "\n",
        "\n",
        "It's time to showcase your deep learning skills! In this assignment, you will be designing your own neural network using PyTorch. Your task is to **implement your neural network design in the files `dl_pytorch/my_model.py` and `dl_pytorch/hparams_my_model.py`**. The goal is to achieve a test accuracy of **44%** or higher.\n",
        "\n",
        "To ensure reproducibility and to maintain the focus of the assignment, please adhere to the following rules:\n",
        "\n",
        "1. Do not modify the code in the Jupyter Notebook cell or other cells that this cell depends on. It means that you cannot change data processing, the training loop, and the random seed. The emphasis of this assignment is on the model architecture and hyperparameter tuning.\n",
        "\n",
        "1. The number of model parameters must not exceed `1,000,000`.\n",
        "\n",
        "1. The total number of training steps should be no more than `20,000`.\n",
        "\n",
        "1. The maximum number of training epochs is `10`.\n",
        "\n",
        "1. Please refrain from using any pre-trained models or other downloaded assets.\n",
        "\n",
        "Your test accuracy will be displayed on the Gradescope leaderboard. Please note that your rank on the leaderboard does not affect your grade. In order to receive full credit for this part of the assignment, you only need to abide by the rules outlined above and achieve a minimum test accuracy of 44%. Your grade will be scaled linearly, with a score of 0 for a test accuracy of 38% and full credit for a test accuracy of 44% or higher."
      ]
    },
    {
      "cell_type": "code",
      "execution_count": 21,
      "metadata": {
        "colab": {
          "base_uri": "https://localhost:8080/"
        },
        "id": "_OTFoZRlC56q",
        "outputId": "b192e325-060d-4d62-97bc-4178be6bd187"
      },
      "outputs": [
        {
          "output_type": "stream",
          "name": "stdout",
          "text": [
            "Hyperparameters: Namespace(batch_size=32, do_batchnorm=True, epochs=5, l2_reg=0.0, lr=0.001, lr_decay=0.99, momentum=0.9, optim_type='adam', p_dropout=0.2)\n",
            "Epoch 1\n",
            "-------------------------------\n",
            "loss: 4.887371  [    0/50000]\n",
            "loss: 4.285199  [ 3200/50000]\n",
            "loss: 4.362989  [ 6400/50000]\n",
            "loss: 3.876976  [ 9600/50000]\n",
            "loss: 3.919739  [12800/50000]\n",
            "loss: 4.429490  [16000/50000]\n",
            "loss: 3.587250  [19200/50000]\n",
            "loss: 3.974435  [22400/50000]\n",
            "loss: 3.460201  [25600/50000]\n",
            "loss: 3.967312  [28800/50000]\n",
            "loss: 3.613081  [32000/50000]\n",
            "loss: 3.334165  [35200/50000]\n",
            "loss: 2.987887  [38400/50000]\n",
            "loss: 3.162585  [41600/50000]\n",
            "loss: 3.231714  [44800/50000]\n",
            "loss: 2.942695  [48000/50000]\n",
            "Evaluation Error: \n",
            " Accuracy: 21.7%, Avg loss: 3.167471 \n",
            "\n",
            "Epoch 2\n",
            "-------------------------------\n",
            "loss: 3.516046  [    0/50000]\n",
            "loss: 3.081623  [ 3200/50000]\n",
            "loss: 2.966256  [ 6400/50000]\n",
            "loss: 3.022560  [ 9600/50000]\n",
            "loss: 2.748192  [12800/50000]\n",
            "loss: 3.146186  [16000/50000]\n",
            "loss: 2.623596  [19200/50000]\n",
            "loss: 3.203952  [22400/50000]\n",
            "loss: 2.578482  [25600/50000]\n",
            "loss: 2.964797  [28800/50000]\n",
            "loss: 2.799291  [32000/50000]\n",
            "loss: 2.713722  [35200/50000]\n",
            "loss: 2.548568  [38400/50000]\n",
            "loss: 2.401725  [41600/50000]\n",
            "loss: 2.445333  [44800/50000]\n",
            "loss: 2.620683  [48000/50000]\n",
            "Evaluation Error: \n",
            " Accuracy: 29.7%, Avg loss: 2.764110 \n",
            "\n",
            "Epoch 3\n",
            "-------------------------------\n",
            "loss: 2.704834  [    0/50000]\n",
            "loss: 2.709237  [ 3200/50000]\n",
            "loss: 2.679018  [ 6400/50000]\n",
            "loss: 2.760704  [ 9600/50000]\n",
            "loss: 2.352002  [12800/50000]\n",
            "loss: 2.665719  [16000/50000]\n",
            "loss: 2.082255  [19200/50000]\n",
            "loss: 2.956768  [22400/50000]\n",
            "loss: 2.216667  [25600/50000]\n",
            "loss: 2.446284  [28800/50000]\n",
            "loss: 2.336442  [32000/50000]\n",
            "loss: 2.544060  [35200/50000]\n",
            "loss: 2.119535  [38400/50000]\n",
            "loss: 2.040360  [41600/50000]\n",
            "loss: 1.955111  [44800/50000]\n",
            "loss: 2.152856  [48000/50000]\n",
            "Evaluation Error: \n",
            " Accuracy: 37.7%, Avg loss: 2.342626 \n",
            "\n",
            "Epoch 4\n",
            "-------------------------------\n",
            "loss: 2.144153  [    0/50000]\n",
            "loss: 2.411118  [ 3200/50000]\n",
            "loss: 2.333891  [ 6400/50000]\n",
            "loss: 2.546299  [ 9600/50000]\n",
            "loss: 1.944676  [12800/50000]\n",
            "loss: 2.334831  [16000/50000]\n",
            "loss: 1.760261  [19200/50000]\n",
            "loss: 2.725291  [22400/50000]\n",
            "loss: 1.963630  [25600/50000]\n",
            "loss: 2.179761  [28800/50000]\n",
            "loss: 1.859625  [32000/50000]\n",
            "loss: 2.224630  [35200/50000]\n",
            "loss: 1.862218  [38400/50000]\n",
            "loss: 1.912922  [41600/50000]\n",
            "loss: 1.840248  [44800/50000]\n",
            "loss: 2.065498  [48000/50000]\n",
            "Evaluation Error: \n",
            " Accuracy: 42.9%, Avg loss: 2.107543 \n",
            "\n",
            "Epoch 5\n",
            "-------------------------------\n",
            "loss: 2.009403  [    0/50000]\n",
            "loss: 2.323186  [ 3200/50000]\n",
            "loss: 2.155551  [ 6400/50000]\n",
            "loss: 2.270497  [ 9600/50000]\n",
            "loss: 1.829404  [12800/50000]\n",
            "loss: 2.028960  [16000/50000]\n",
            "loss: 1.683313  [19200/50000]\n",
            "loss: 2.543188  [22400/50000]\n",
            "loss: 1.557792  [25600/50000]\n",
            "loss: 1.909314  [28800/50000]\n",
            "loss: 1.702961  [32000/50000]\n",
            "loss: 2.231813  [35200/50000]\n",
            "loss: 1.634664  [38400/50000]\n",
            "loss: 1.616289  [41600/50000]\n",
            "loss: 1.707996  [44800/50000]\n",
            "loss: 1.904798  [48000/50000]\n",
            "Evaluation Error: \n",
            " Accuracy: 47.5%, Avg loss: 1.940699 \n",
            "\n",
            "Saving the model to submission_logs/model_my_model.pt\n"
          ]
        }
      ],
      "source": [
        "from dl_pytorch.my_model import MyNeuralNetwork\n",
        "from dl_pytorch.hparams_my_model import HP as hp_my_model\n",
        "\n",
        "model = run_training(hp_my_model, MyNeuralNetwork, \"model_my_model\")"
      ]
    },
    {
      "cell_type": "code",
      "execution_count": 22,
      "metadata": {
        "colab": {
          "base_uri": "https://localhost:8080/"
        },
        "id": "8a4oL9AnC56q",
        "outputId": "80735d59-1a16-45d0-a2f3-e75e180eb44e"
      },
      "outputs": [
        {
          "output_type": "stream",
          "name": "stdout",
          "text": [
            "Evaluating on the test set\n",
            "Evaluation Error: \n",
            " Accuracy: 48.0%, Avg loss: 1.934452 \n",
            "\n",
            "Parameter count: 486596\n",
            "Training steps: 7815\n"
          ]
        }
      ],
      "source": [
        "# When you are ready to eval on test set, run this cell\n",
        "# WARNING: In real-world applications, it is a bad practice to evaluate\n",
        "#          frequently on the test set because the model will then perform poorly\n",
        "#          on new, unseen data even if it achieves a high test accuracy.\n",
        "eval_on_test(hp_my_model, model, \"model_my_model\")"
      ]
    },
    {
      "cell_type": "markdown",
      "source": [
        "### Question:\n",
        "\n",
        "**Briefly design your neural network design and the procedure of hyperparameter tuning.** Please include the answer of this question in your written assignment."
      ],
      "metadata": {
        "collapsed": false,
        "id": "KgbUA4hNC56r"
      }
    },
    {
      "cell_type": "markdown",
      "metadata": {
        "id": "eqwFUKIjC56r"
      },
      "source": [
        "# Collect your submissions\n",
        "\n",
        "The following command will collect your solutions generated by both notebooks.\n",
        "\n",
        "On Colab, after running the following cell, you can download your submissions from the `Files` tab, which can be opened by clicking the file icon on the left hand side of the screen."
      ]
    },
    {
      "cell_type": "code",
      "execution_count": 24,
      "metadata": {
        "colab": {
          "base_uri": "https://localhost:8080/"
        },
        "id": "jVqxrPsvC56r",
        "outputId": "f638511e-7f23-4976-ae15-7fdf8f21a87b"
      },
      "outputs": [
        {
          "output_type": "stream",
          "name": "stdout",
          "text": [
            "  adding: deeplearning/ (stored 0%)\n",
            "  adding: deeplearning/__init__.py (stored 0%)\n",
            "  adding: deeplearning/classifiers/ (stored 0%)\n",
            "  adding: deeplearning/classifiers/__init__.py (stored 0%)\n",
            "  adding: deeplearning/classifiers/cnn.py (deflated 73%)\n",
            "  adding: deeplearning/classifiers/fc_net.py (deflated 79%)\n",
            "  adding: deeplearning/data_utils.py (deflated 68%)\n",
            "  adding: deeplearning/gradient_check.py (deflated 68%)\n",
            "  adding: deeplearning/optim.py (deflated 76%)\n",
            "  adding: deeplearning/solver.py (deflated 69%)\n",
            "  adding: deeplearning/vis_utils.py (deflated 65%)\n",
            "  adding: deeplearning/layer_utils.py (deflated 81%)\n",
            "  adding: deeplearning/layers.py (deflated 81%)\n",
            "  adding: dl_pytorch/ (stored 0%)\n",
            "  adding: dl_pytorch/hparams.py (deflated 32%)\n",
            "  adding: dl_pytorch/hparams_bn_drop.py (deflated 31%)\n",
            "  adding: dl_pytorch/hparams_my_model.py (deflated 58%)\n",
            "  adding: dl_pytorch/model.py (deflated 76%)\n",
            "  adding: dl_pytorch/my_model.py (deflated 79%)\n",
            "  adding: hw3_bn_drop_cnn.ipynb (deflated 78%)\n",
            "  adding: hw3_pytorch_cnn.ipynb (deflated 75%)\n",
            "  adding: submission_logs/ (stored 0%)\n",
            "  adding: submission_logs/compare_bn_deep_networks_no_bn.npz (deflated 45%)\n",
            "  adding: submission_logs/compare_bn_deep_networks_with_bn.npz (deflated 44%)\n",
            "  adding: submission_logs/bn_and_weight_scale_experiments_scale0_no_bn.npz (deflated 58%)\n",
            "  adding: submission_logs/bn_and_weight_scale_experiments_scale0_with_bn.npz (deflated 46%)\n",
            "  adding: submission_logs/bn_and_weight_scale_experiments_scale1_no_bn.npz (deflated 57%)\n",
            "  adding: submission_logs/bn_and_weight_scale_experiments_scale1_with_bn.npz (deflated 46%)\n",
            "  adding: submission_logs/bn_and_weight_scale_experiments_scale2_no_bn.npz (deflated 58%)\n",
            "  adding: submission_logs/bn_and_weight_scale_experiments_scale2_with_bn.npz (deflated 46%)\n",
            "  adding: submission_logs/bn_and_weight_scale_experiments_scale3_no_bn.npz (deflated 57%)\n",
            "  adding: submission_logs/bn_and_weight_scale_experiments_scale3_with_bn.npz (deflated 45%)\n",
            "  adding: submission_logs/bn_and_weight_scale_experiments_scale4_no_bn.npz (deflated 58%)\n",
            "  adding: submission_logs/bn_and_weight_scale_experiments_scale4_with_bn.npz (deflated 46%)\n",
            "  adding: submission_logs/bn_and_weight_scale_experiments_scale5_no_bn.npz (deflated 57%)\n",
            "  adding: submission_logs/bn_and_weight_scale_experiments_scale5_with_bn.npz (deflated 45%)\n",
            "  adding: submission_logs/bn_and_weight_scale_experiments_scale6_no_bn.npz (deflated 57%)\n",
            "  adding: submission_logs/bn_and_weight_scale_experiments_scale6_with_bn.npz (deflated 46%)\n",
            "  adding: submission_logs/bn_and_weight_scale_experiments_scale7_no_bn.npz (deflated 53%)\n",
            "  adding: submission_logs/bn_and_weight_scale_experiments_scale7_with_bn.npz (deflated 45%)\n",
            "  adding: submission_logs/bn_and_weight_scale_experiments_scale8_no_bn.npz (deflated 49%)\n",
            "  adding: submission_logs/bn_and_weight_scale_experiments_scale8_with_bn.npz (deflated 45%)\n",
            "  adding: submission_logs/bn_and_weight_scale_experiments_scale9_no_bn.npz (deflated 47%)\n",
            "  adding: submission_logs/bn_and_weight_scale_experiments_scale9_with_bn.npz (deflated 45%)\n",
            "  adding: submission_logs/bn_and_weight_scale_experiments_scale10_no_bn.npz (deflated 48%)\n",
            "  adding: submission_logs/bn_and_weight_scale_experiments_scale10_with_bn.npz (deflated 45%)\n",
            "  adding: submission_logs/bn_and_weight_scale_experiments_scale11_no_bn.npz (deflated 46%)\n",
            "  adding: submission_logs/bn_and_weight_scale_experiments_scale11_with_bn.npz (deflated 45%)\n",
            "  adding: submission_logs/bn_and_weight_scale_experiments_scale12_no_bn.npz (deflated 45%)\n",
            "  adding: submission_logs/bn_and_weight_scale_experiments_scale12_with_bn.npz (deflated 44%)\n",
            "  adding: submission_logs/bn_and_weight_scale_experiments_scale13_no_bn.npz (deflated 45%)\n",
            "  adding: submission_logs/bn_and_weight_scale_experiments_scale13_with_bn.npz (deflated 44%)\n",
            "  adding: submission_logs/bn_and_weight_scale_experiments_scale14_no_bn.npz (deflated 44%)\n",
            "  adding: submission_logs/bn_and_weight_scale_experiments_scale14_with_bn.npz (deflated 45%)\n",
            "  adding: submission_logs/bn_and_weight_scale_experiments_scale15_no_bn.npz (deflated 44%)\n",
            "  adding: submission_logs/bn_and_weight_scale_experiments_scale15_with_bn.npz (deflated 45%)\n",
            "  adding: submission_logs/bn_and_weight_scale_experiments_scale16_no_bn.npz (deflated 84%)\n",
            "  adding: submission_logs/bn_and_weight_scale_experiments_scale16_with_bn.npz (deflated 44%)\n",
            "  adding: submission_logs/bn_and_weight_scale_experiments_scale17_no_bn.npz (deflated 84%)\n",
            "  adding: submission_logs/bn_and_weight_scale_experiments_scale17_with_bn.npz (deflated 45%)\n",
            "  adding: submission_logs/bn_and_weight_scale_experiments_scale18_no_bn.npz (deflated 84%)\n",
            "  adding: submission_logs/bn_and_weight_scale_experiments_scale18_with_bn.npz (deflated 44%)\n",
            "  adding: submission_logs/bn_and_weight_scale_experiments_scale19_no_bn.npz (deflated 85%)\n",
            "  adding: submission_logs/bn_and_weight_scale_experiments_scale19_with_bn.npz (deflated 45%)\n",
            "  adding: submission_logs/dropout_regularization_experiment_p0.npz (deflated 45%)\n",
            "  adding: submission_logs/dropout_regularization_experiment_p0.5.npz (deflated 45%)\n",
            "  adding: submission_logs/model.pt (deflated 7%)\n",
            "  adding: submission_logs/model.json (deflated 34%)\n",
            "  adding: submission_logs/model_bn_drop.pt (deflated 7%)\n",
            "  adding: submission_logs/model_bn_drop.json (deflated 32%)\n",
            "  adding: submission_logs/model_my_model.pt (deflated 8%)\n",
            "  adding: submission_logs/model_my_model.json (deflated 32%)\n"
          ]
        }
      ],
      "source": [
        "!rm -f cs182hw3_submission.zip\n",
        "!zip -r cs182hw3_submission.zip . -x \"*.git*\" \"*deeplearning/datasets*\" \"data*\" \"*.ipynb_checkpoints*\" \"*README.md\" \".env/*\" \"*.pyc\" \"*deeplearning/build/*\" \"*__pycache__/*\""
      ]
    }
  ],
  "metadata": {
    "language_info": {
      "name": "python"
    },
    "colab": {
      "provenance": []
    },
    "accelerator": "GPU",
    "gpuClass": "standard",
    "kernelspec": {
      "name": "python3",
      "display_name": "Python 3"
    },
    "widgets": {
      "application/vnd.jupyter.widget-state+json": {
        "1d8daad357be472488d51a39b560b90a": {
          "model_module": "@jupyter-widgets/controls",
          "model_name": "HBoxModel",
          "model_module_version": "1.5.0",
          "state": {
            "_dom_classes": [],
            "_model_module": "@jupyter-widgets/controls",
            "_model_module_version": "1.5.0",
            "_model_name": "HBoxModel",
            "_view_count": null,
            "_view_module": "@jupyter-widgets/controls",
            "_view_module_version": "1.5.0",
            "_view_name": "HBoxView",
            "box_style": "",
            "children": [
              "IPY_MODEL_c46db8868f4245f9bd4615ab9cc00bcd",
              "IPY_MODEL_7190cfb689314bbb8f889a2e11154ac5",
              "IPY_MODEL_6145ceafdad54222a31ecca3302ef53b"
            ],
            "layout": "IPY_MODEL_fe55383dbcc142d6acd0ba86c28a54a9"
          }
        },
        "c46db8868f4245f9bd4615ab9cc00bcd": {
          "model_module": "@jupyter-widgets/controls",
          "model_name": "HTMLModel",
          "model_module_version": "1.5.0",
          "state": {
            "_dom_classes": [],
            "_model_module": "@jupyter-widgets/controls",
            "_model_module_version": "1.5.0",
            "_model_name": "HTMLModel",
            "_view_count": null,
            "_view_module": "@jupyter-widgets/controls",
            "_view_module_version": "1.5.0",
            "_view_name": "HTMLView",
            "description": "",
            "description_tooltip": null,
            "layout": "IPY_MODEL_83f91d71e077491ab2580be37009225a",
            "placeholder": "​",
            "style": "IPY_MODEL_56baa36ec980414884bcabadc5e6b5f5",
            "value": "100%"
          }
        },
        "7190cfb689314bbb8f889a2e11154ac5": {
          "model_module": "@jupyter-widgets/controls",
          "model_name": "FloatProgressModel",
          "model_module_version": "1.5.0",
          "state": {
            "_dom_classes": [],
            "_model_module": "@jupyter-widgets/controls",
            "_model_module_version": "1.5.0",
            "_model_name": "FloatProgressModel",
            "_view_count": null,
            "_view_module": "@jupyter-widgets/controls",
            "_view_module_version": "1.5.0",
            "_view_name": "ProgressView",
            "bar_style": "success",
            "description": "",
            "description_tooltip": null,
            "layout": "IPY_MODEL_21386e0df938440380fd731744b77adc",
            "max": 169001437,
            "min": 0,
            "orientation": "horizontal",
            "style": "IPY_MODEL_2a3c7f1caa3c447280fbc0a938a3a1fe",
            "value": 169001437
          }
        },
        "6145ceafdad54222a31ecca3302ef53b": {
          "model_module": "@jupyter-widgets/controls",
          "model_name": "HTMLModel",
          "model_module_version": "1.5.0",
          "state": {
            "_dom_classes": [],
            "_model_module": "@jupyter-widgets/controls",
            "_model_module_version": "1.5.0",
            "_model_name": "HTMLModel",
            "_view_count": null,
            "_view_module": "@jupyter-widgets/controls",
            "_view_module_version": "1.5.0",
            "_view_name": "HTMLView",
            "description": "",
            "description_tooltip": null,
            "layout": "IPY_MODEL_deb8d42ca6814fc5a7331d6d31efae44",
            "placeholder": "​",
            "style": "IPY_MODEL_d23d6cd3bfd84746b56f04cfe4dc3a0c",
            "value": " 169001437/169001437 [00:04&lt;00:00, 74395946.57it/s]"
          }
        },
        "fe55383dbcc142d6acd0ba86c28a54a9": {
          "model_module": "@jupyter-widgets/base",
          "model_name": "LayoutModel",
          "model_module_version": "1.2.0",
          "state": {
            "_model_module": "@jupyter-widgets/base",
            "_model_module_version": "1.2.0",
            "_model_name": "LayoutModel",
            "_view_count": null,
            "_view_module": "@jupyter-widgets/base",
            "_view_module_version": "1.2.0",
            "_view_name": "LayoutView",
            "align_content": null,
            "align_items": null,
            "align_self": null,
            "border": null,
            "bottom": null,
            "display": null,
            "flex": null,
            "flex_flow": null,
            "grid_area": null,
            "grid_auto_columns": null,
            "grid_auto_flow": null,
            "grid_auto_rows": null,
            "grid_column": null,
            "grid_gap": null,
            "grid_row": null,
            "grid_template_areas": null,
            "grid_template_columns": null,
            "grid_template_rows": null,
            "height": null,
            "justify_content": null,
            "justify_items": null,
            "left": null,
            "margin": null,
            "max_height": null,
            "max_width": null,
            "min_height": null,
            "min_width": null,
            "object_fit": null,
            "object_position": null,
            "order": null,
            "overflow": null,
            "overflow_x": null,
            "overflow_y": null,
            "padding": null,
            "right": null,
            "top": null,
            "visibility": null,
            "width": null
          }
        },
        "83f91d71e077491ab2580be37009225a": {
          "model_module": "@jupyter-widgets/base",
          "model_name": "LayoutModel",
          "model_module_version": "1.2.0",
          "state": {
            "_model_module": "@jupyter-widgets/base",
            "_model_module_version": "1.2.0",
            "_model_name": "LayoutModel",
            "_view_count": null,
            "_view_module": "@jupyter-widgets/base",
            "_view_module_version": "1.2.0",
            "_view_name": "LayoutView",
            "align_content": null,
            "align_items": null,
            "align_self": null,
            "border": null,
            "bottom": null,
            "display": null,
            "flex": null,
            "flex_flow": null,
            "grid_area": null,
            "grid_auto_columns": null,
            "grid_auto_flow": null,
            "grid_auto_rows": null,
            "grid_column": null,
            "grid_gap": null,
            "grid_row": null,
            "grid_template_areas": null,
            "grid_template_columns": null,
            "grid_template_rows": null,
            "height": null,
            "justify_content": null,
            "justify_items": null,
            "left": null,
            "margin": null,
            "max_height": null,
            "max_width": null,
            "min_height": null,
            "min_width": null,
            "object_fit": null,
            "object_position": null,
            "order": null,
            "overflow": null,
            "overflow_x": null,
            "overflow_y": null,
            "padding": null,
            "right": null,
            "top": null,
            "visibility": null,
            "width": null
          }
        },
        "56baa36ec980414884bcabadc5e6b5f5": {
          "model_module": "@jupyter-widgets/controls",
          "model_name": "DescriptionStyleModel",
          "model_module_version": "1.5.0",
          "state": {
            "_model_module": "@jupyter-widgets/controls",
            "_model_module_version": "1.5.0",
            "_model_name": "DescriptionStyleModel",
            "_view_count": null,
            "_view_module": "@jupyter-widgets/base",
            "_view_module_version": "1.2.0",
            "_view_name": "StyleView",
            "description_width": ""
          }
        },
        "21386e0df938440380fd731744b77adc": {
          "model_module": "@jupyter-widgets/base",
          "model_name": "LayoutModel",
          "model_module_version": "1.2.0",
          "state": {
            "_model_module": "@jupyter-widgets/base",
            "_model_module_version": "1.2.0",
            "_model_name": "LayoutModel",
            "_view_count": null,
            "_view_module": "@jupyter-widgets/base",
            "_view_module_version": "1.2.0",
            "_view_name": "LayoutView",
            "align_content": null,
            "align_items": null,
            "align_self": null,
            "border": null,
            "bottom": null,
            "display": null,
            "flex": null,
            "flex_flow": null,
            "grid_area": null,
            "grid_auto_columns": null,
            "grid_auto_flow": null,
            "grid_auto_rows": null,
            "grid_column": null,
            "grid_gap": null,
            "grid_row": null,
            "grid_template_areas": null,
            "grid_template_columns": null,
            "grid_template_rows": null,
            "height": null,
            "justify_content": null,
            "justify_items": null,
            "left": null,
            "margin": null,
            "max_height": null,
            "max_width": null,
            "min_height": null,
            "min_width": null,
            "object_fit": null,
            "object_position": null,
            "order": null,
            "overflow": null,
            "overflow_x": null,
            "overflow_y": null,
            "padding": null,
            "right": null,
            "top": null,
            "visibility": null,
            "width": null
          }
        },
        "2a3c7f1caa3c447280fbc0a938a3a1fe": {
          "model_module": "@jupyter-widgets/controls",
          "model_name": "ProgressStyleModel",
          "model_module_version": "1.5.0",
          "state": {
            "_model_module": "@jupyter-widgets/controls",
            "_model_module_version": "1.5.0",
            "_model_name": "ProgressStyleModel",
            "_view_count": null,
            "_view_module": "@jupyter-widgets/base",
            "_view_module_version": "1.2.0",
            "_view_name": "StyleView",
            "bar_color": null,
            "description_width": ""
          }
        },
        "deb8d42ca6814fc5a7331d6d31efae44": {
          "model_module": "@jupyter-widgets/base",
          "model_name": "LayoutModel",
          "model_module_version": "1.2.0",
          "state": {
            "_model_module": "@jupyter-widgets/base",
            "_model_module_version": "1.2.0",
            "_model_name": "LayoutModel",
            "_view_count": null,
            "_view_module": "@jupyter-widgets/base",
            "_view_module_version": "1.2.0",
            "_view_name": "LayoutView",
            "align_content": null,
            "align_items": null,
            "align_self": null,
            "border": null,
            "bottom": null,
            "display": null,
            "flex": null,
            "flex_flow": null,
            "grid_area": null,
            "grid_auto_columns": null,
            "grid_auto_flow": null,
            "grid_auto_rows": null,
            "grid_column": null,
            "grid_gap": null,
            "grid_row": null,
            "grid_template_areas": null,
            "grid_template_columns": null,
            "grid_template_rows": null,
            "height": null,
            "justify_content": null,
            "justify_items": null,
            "left": null,
            "margin": null,
            "max_height": null,
            "max_width": null,
            "min_height": null,
            "min_width": null,
            "object_fit": null,
            "object_position": null,
            "order": null,
            "overflow": null,
            "overflow_x": null,
            "overflow_y": null,
            "padding": null,
            "right": null,
            "top": null,
            "visibility": null,
            "width": null
          }
        },
        "d23d6cd3bfd84746b56f04cfe4dc3a0c": {
          "model_module": "@jupyter-widgets/controls",
          "model_name": "DescriptionStyleModel",
          "model_module_version": "1.5.0",
          "state": {
            "_model_module": "@jupyter-widgets/controls",
            "_model_module_version": "1.5.0",
            "_model_name": "DescriptionStyleModel",
            "_view_count": null,
            "_view_module": "@jupyter-widgets/base",
            "_view_module_version": "1.2.0",
            "_view_name": "StyleView",
            "description_width": ""
          }
        }
      }
    }
  },
  "nbformat": 4,
  "nbformat_minor": 0
}