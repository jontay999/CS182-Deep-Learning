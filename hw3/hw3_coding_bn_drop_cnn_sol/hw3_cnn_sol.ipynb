{
  "cells": [
    {
      "cell_type": "markdown",
      "source": [
        "# Setup Environment\n",
        "\n",
        "If you are working on this assignment using Google Colab, please execute the codes below.\n",
        "\n",
        "Alternatively, you can also do this assignment using a local anaconda environment (or a Python virtualenv). Please clone the GitHub repo by running `git clone https://github.com/Berkeley-CS182/cs182hw3.git` and refer to `README.md` for further details."
      ],
      "metadata": {
        "id": "_yf4jo9mQBtU"
      }
    },
    {
      "cell_type": "code",
      "source": [
        "#@title Mount your Google Drive\n",
        "\n",
        "import os\n",
        "from google.colab import drive\n",
        "drive.mount('/content/gdrive')"
      ],
      "metadata": {
        "id": "u-yollXlQBtW",
        "colab": {
          "base_uri": "https://localhost:8080/"
        },
        "outputId": "58900a22-38e7-486d-ad16-31feb1ddeb25"
      },
      "execution_count": 1,
      "outputs": [
        {
          "output_type": "stream",
          "name": "stdout",
          "text": [
            "Mounted at /content/gdrive\n"
          ]
        }
      ]
    },
    {
      "cell_type": "code",
      "source": [
        "#@title Set up mount symlink\n",
        "\n",
        "DRIVE_PATH = '/content/gdrive/My\\ Drive/cs182hw3_sp23'\n",
        "DRIVE_PYTHON_PATH = DRIVE_PATH.replace('\\\\', '')\n",
        "if not os.path.exists(DRIVE_PYTHON_PATH):\n",
        "  %mkdir $DRIVE_PATH\n",
        "\n",
        "## the space in `My Drive` causes some issues,\n",
        "## make a symlink to avoid this\n",
        "SYM_PATH = '/content/cs182hw3'\n",
        "if not os.path.exists(SYM_PATH):\n",
        "  !ln -s $DRIVE_PATH $SYM_PATH"
      ],
      "metadata": {
        "id": "RnSfynkwQBtW"
      },
      "execution_count": 2,
      "outputs": []
    },
    {
      "cell_type": "code",
      "source": [
        "#@title Install dependencies\n",
        "\n",
        "!pip install numpy==1.21.6 imageio==2.9.0 matplotlib==3.2.2"
      ],
      "metadata": {
        "id": "VwNa4-CPQBtW",
        "colab": {
          "base_uri": "https://localhost:8080/"
        },
        "outputId": "195e2ba9-24c1-42c4-e552-006ab4a60d9a"
      },
      "execution_count": 3,
      "outputs": [
        {
          "output_type": "stream",
          "name": "stdout",
          "text": [
            "Looking in indexes: https://pypi.org/simple, https://us-python.pkg.dev/colab-wheels/public/simple/\n",
            "Requirement already satisfied: numpy==1.21.6 in /usr/local/lib/python3.8/dist-packages (1.21.6)\n",
            "Requirement already satisfied: imageio==2.9.0 in /usr/local/lib/python3.8/dist-packages (2.9.0)\n",
            "Requirement already satisfied: matplotlib==3.2.2 in /usr/local/lib/python3.8/dist-packages (3.2.2)\n",
            "Requirement already satisfied: pillow in /usr/local/lib/python3.8/dist-packages (from imageio==2.9.0) (7.1.2)\n",
            "Requirement already satisfied: kiwisolver>=1.0.1 in /usr/local/lib/python3.8/dist-packages (from matplotlib==3.2.2) (1.4.4)\n",
            "Requirement already satisfied: python-dateutil>=2.1 in /usr/local/lib/python3.8/dist-packages (from matplotlib==3.2.2) (2.8.2)\n",
            "Requirement already satisfied: pyparsing!=2.0.4,!=2.1.2,!=2.1.6,>=2.0.1 in /usr/local/lib/python3.8/dist-packages (from matplotlib==3.2.2) (3.0.9)\n",
            "Requirement already satisfied: cycler>=0.10 in /usr/local/lib/python3.8/dist-packages (from matplotlib==3.2.2) (0.11.0)\n",
            "Requirement already satisfied: six>=1.5 in /usr/local/lib/python3.8/dist-packages (from python-dateutil>=2.1->matplotlib==3.2.2) (1.15.0)\n"
          ]
        }
      ]
    },
    {
      "cell_type": "code",
      "source": [
        "#@title Clone homework repo\n",
        "\n",
        "%cd $SYM_PATH\n",
        "if not os.path.exists(\"cs182hw3\"):\n",
        "  !git clone https://github.com/Berkeley-CS182/cs182hw3.git\n",
        "%cd cs182hw3"
      ],
      "metadata": {
        "id": "_EndRHC9QBtW",
        "colab": {
          "base_uri": "https://localhost:8080/"
        },
        "outputId": "0314de0f-bf47-467e-a214-7c07f113401c"
      },
      "execution_count": 4,
      "outputs": [
        {
          "output_type": "stream",
          "name": "stdout",
          "text": [
            "/content/gdrive/My Drive/cs182hw3_sp23\n",
            "/content/gdrive/My Drive/cs182hw3_sp23/cs182hw3\n"
          ]
        }
      ]
    },
    {
      "cell_type": "code",
      "source": [
        "#@title Download datasets (Skip if you did it in the last part)\n",
        "\n",
        "%cd deeplearning/datasets/\n",
        "!bash ./get_datasets.sh\n",
        "%cd ../.."
      ],
      "metadata": {
        "id": "Bs0SaZNIQBtW",
        "colab": {
          "base_uri": "https://localhost:8080/"
        },
        "outputId": "c4d0a394-0225-4e99-b369-1cd1fa4aa8fd"
      },
      "execution_count": 5,
      "outputs": [
        {
          "output_type": "stream",
          "name": "stdout",
          "text": [
            "/content/gdrive/My Drive/cs182hw3_sp23/cs182hw3/deeplearning/datasets\n",
            "--2023-02-16 04:28:14--  http://www.cs.toronto.edu/~kriz/cifar-10-python.tar.gz\n",
            "Resolving www.cs.toronto.edu (www.cs.toronto.edu)... 128.100.3.30\n",
            "Connecting to www.cs.toronto.edu (www.cs.toronto.edu)|128.100.3.30|:80... connected.\n",
            "HTTP request sent, awaiting response... 200 OK\n",
            "Length: 170498071 (163M) [application/x-gzip]\n",
            "Saving to: ‘cifar-10-python.tar.gz’\n",
            "\n",
            "cifar-10-python.tar 100%[===================>] 162.60M  50.6MB/s    in 3.4s    \n",
            "\n",
            "2023-02-16 04:28:18 (47.7 MB/s) - ‘cifar-10-python.tar.gz’ saved [170498071/170498071]\n",
            "\n",
            "cifar-10-batches-py/\n",
            "cifar-10-batches-py/data_batch_4\n",
            "cifar-10-batches-py/readme.html\n",
            "cifar-10-batches-py/test_batch\n",
            "cifar-10-batches-py/data_batch_3\n",
            "cifar-10-batches-py/batches.meta\n",
            "cifar-10-batches-py/data_batch_2\n",
            "cifar-10-batches-py/data_batch_5\n",
            "cifar-10-batches-py/data_batch_1\n",
            "/content/gdrive/My Drive/cs182hw3_sp23/cs182hw3\n"
          ]
        }
      ]
    },
    {
      "cell_type": "code",
      "source": [
        "#@title Configure Jupyter Notebook\n",
        "\n",
        "import matplotlib\n",
        "%matplotlib inline\n",
        "%load_ext autoreload\n",
        "%autoreload 2"
      ],
      "metadata": {
        "id": "1OdWox_KQBtX"
      },
      "execution_count": 6,
      "outputs": []
    },
    {
      "cell_type": "markdown",
      "source": [
        "# Convolutional Networks\n",
        "So far we have worked with deep fully-connected networks, using them to explore different optimization strategies and network architectures. Fully-connected networks are a good testbed for experimentation because they are very computationally efficient, but in practice all state-of-the-art results use convolutional networks instead.\n",
        "\n",
        "First you will implement several layer types that are used in convolutional networks. You will then use these layers to train a convolutional network on the CIFAR-10 dataset."
      ],
      "metadata": {
        "id": "HeyQL7TvZSYV"
      }
    },
    {
      "cell_type": "code",
      "source": [
        "# As usual, a bit of setup\n",
        "\n",
        "import os\n",
        "import time\n",
        "import numpy as np\n",
        "import matplotlib.pyplot as plt\n",
        "from deeplearning.classifiers.fc_net import *\n",
        "from deeplearning.data_utils import get_CIFAR10_data\n",
        "from deeplearning.gradient_check import eval_numerical_gradient, eval_numerical_gradient_array\n",
        "from deeplearning.solver import Solver\n",
        "import random \n",
        "import torch\n",
        "seed = 7\n",
        "torch.manual_seed(seed)\n",
        "random.seed(seed)\n",
        "np.random.seed(seed)\n",
        "\n",
        "plt.rcParams['figure.figsize'] = (10.0, 8.0) # set default size of plots\n",
        "plt.rcParams['image.interpolation'] = 'nearest'\n",
        "plt.rcParams['image.cmap'] = 'gray'\n",
        "\n",
        "os.makedirs(\"submission_logs\", exist_ok=True)\n",
        "\n",
        "def abs_error(x, y):\n",
        "    return np.max(np.abs(x - y))\n",
        "\n",
        "def rel_error(x, y):\n",
        "    \"\"\" returns relative error \"\"\"\n",
        "    return np.max(np.abs(x - y) / (np.maximum(1e-8, np.abs(x) + np.abs(y))))"
      ],
      "metadata": {
        "id": "h2iVXKCYbMWw"
      },
      "execution_count": 7,
      "outputs": []
    },
    {
      "cell_type": "code",
      "source": [
        "# Load the (preprocessed) CIFAR10 data.\n",
        "\n",
        "data = get_CIFAR10_data()\n",
        "for k, v in data.items():\n",
        "    print ('%s: ' % k, v.shape)"
      ],
      "metadata": {
        "colab": {
          "base_uri": "https://localhost:8080/"
        },
        "id": "jA491RDgbONB",
        "outputId": "046350cb-339c-4d78-dada-68d49a97935c"
      },
      "execution_count": 8,
      "outputs": [
        {
          "output_type": "stream",
          "name": "stdout",
          "text": [
            "deeplearning/datasets/cifar-10-batches-py/data_batch_1\n",
            "deeplearning/datasets/cifar-10-batches-py/data_batch_2\n",
            "deeplearning/datasets/cifar-10-batches-py/data_batch_3\n",
            "deeplearning/datasets/cifar-10-batches-py/data_batch_4\n",
            "deeplearning/datasets/cifar-10-batches-py/data_batch_5\n",
            "deeplearning/datasets/cifar-10-batches-py/test_batch\n",
            "X_train:  (49000, 3, 32, 32)\n",
            "y_train:  (49000,)\n",
            "X_val:  (1000, 3, 32, 32)\n",
            "y_val:  (1000,)\n",
            "X_test:  (1000, 3, 32, 32)\n",
            "y_test:  (1000,)\n"
          ]
        }
      ]
    },
    {
      "cell_type": "markdown",
      "metadata": {
        "id": "L4MzZQTsZDkk"
      },
      "source": [
        "## Convolution: Naive forward pass\n",
        "The core of a convolutional network is the convolution operation. In the file `deeplearning/layers.py`, implement the forward pass for the convolution layer in the function `conv_forward_naive`. \n",
        "\n",
        "You don't have to worry too much about efficiency at this point; just write the code in whatever way you find most clear.\n",
        "\n",
        "You can test your implementation by running the following:"
      ]
    },
    {
      "cell_type": "code",
      "execution_count": 9,
      "metadata": {
        "id": "AcHtjDejZDkk",
        "colab": {
          "base_uri": "https://localhost:8080/"
        },
        "outputId": "3d8f6ead-8a37-47f5-c5e6-37389c08e8f6"
      },
      "outputs": [
        {
          "output_type": "stream",
          "name": "stdout",
          "text": [
            "Testing conv_forward_naive\n",
            "difference:  2.2121476417505994e-08\n"
          ]
        }
      ],
      "source": [
        "x_shape = (2, 3, 4, 4)\n",
        "w_shape = (3, 3, 4, 4)\n",
        "x = np.linspace(-0.1, 0.5, num=np.prod(x_shape)).reshape(x_shape)\n",
        "w = np.linspace(-0.2, 0.3, num=np.prod(w_shape)).reshape(w_shape)\n",
        "b = np.linspace(-0.1, 0.2, num=3)\n",
        "\n",
        "conv_param = {'stride': 2, 'pad': 1}\n",
        "out, _ = conv_forward_naive(x, w, b, conv_param)\n",
        "correct_out = np.array([[[[[-0.08759809, -0.10987781],\n",
        "                           [-0.18387192, -0.2109216 ]],\n",
        "                          [[ 0.21027089,  0.21661097],\n",
        "                           [ 0.22847626,  0.23004637]],\n",
        "                          [[ 0.50813986,  0.54309974],\n",
        "                           [ 0.64082444,  0.67101435]]],\n",
        "                         [[[-0.98053589, -1.03143541],\n",
        "                           [-1.19128892, -1.24695841]],\n",
        "                          [[ 0.69108355,  0.66880383],\n",
        "                           [ 0.59480972,  0.56776003]],\n",
        "                          [[ 2.36270298,  2.36904306],\n",
        "                           [ 2.38090835,  2.38247847]]]]])\n",
        "\n",
        "# Compare your output to ours; difference should be around 1e-8\n",
        "print ('Testing conv_forward_naive')\n",
        "print ('difference: ', rel_error(out, correct_out))"
      ]
    },
    {
      "cell_type": "markdown",
      "source": [
        "## Convolution: naive backpropagation\n",
        "\n",
        "In `deeplearning/layers.py`, implement the backpropagation for the convolution layer in the function `conv_backward_naive`.\n",
        "\n",
        "The gradient check below will take 30s~1min depending on the efficiency of your code."
      ],
      "metadata": {
        "id": "9YlTKYmoZk2F"
      }
    },
    {
      "cell_type": "code",
      "source": [
        "x = np.random.randn(10, 3, 5, 5)\n",
        "w = np.random.randn(16, 3, 3, 3)\n",
        "b = np.random.randn(16,)\n",
        "conv_param = {'stride': 2, 'pad': 1}\n",
        "dout = np.random.randn(10, 16, 3, 3)\n",
        "out, cache = conv_forward_naive(x, w, b, conv_param)\n",
        "dx, dw, db = conv_backward_naive(dout, cache)\n",
        "dx_num = eval_numerical_gradient_array(lambda xx: conv_forward_naive(xx, w, b, conv_param)[0], x, dout)\n",
        "dw_num = eval_numerical_gradient_array(lambda ww: conv_forward_naive(x, ww, b, conv_param)[0], w, dout)\n",
        "db_num = eval_numerical_gradient_array(lambda bb: conv_forward_naive(x, w, bb, conv_param)[0], b, dout)\n",
        "\n",
        "print ('dx relative error: ', rel_error(dx, dx_num))\n",
        "print ('dw relative error: ', rel_error(dw, dw_num))\n",
        "print ('db relative error: ', rel_error(db, db_num))"
      ],
      "metadata": {
        "colab": {
          "base_uri": "https://localhost:8080/"
        },
        "id": "PPVctEUoZ3a9",
        "outputId": "417ca12d-586b-4bc5-86fc-4e4b9cd878a6"
      },
      "execution_count": 10,
      "outputs": [
        {
          "output_type": "stream",
          "name": "stdout",
          "text": [
            "dx relative error:  5.742406157093703e-07\n",
            "dw relative error:  9.391851964541804e-09\n",
            "db relative error:  9.785115691184958e-11\n"
          ]
        }
      ]
    },
    {
      "cell_type": "markdown",
      "metadata": {
        "id": "Oaq6j8RXZDkk"
      },
      "source": [
        "## Max pooling: Naive forward\n",
        "Implement the forward pass for the max-pooling operation in the function `max_pool_forward_naive` in the file `deeplearning/layers.py`. Again, don't worry too much about computational efficiency.\n",
        "\n",
        "Check your implementation by running the following:"
      ]
    },
    {
      "cell_type": "code",
      "execution_count": 11,
      "metadata": {
        "id": "hFFPjTOjZDkk",
        "colab": {
          "base_uri": "https://localhost:8080/"
        },
        "outputId": "e65109eb-9a36-4bec-8e9d-c4cc59ee6b87"
      },
      "outputs": [
        {
          "output_type": "stream",
          "name": "stdout",
          "text": [
            "Testing max_pool_forward_naive function:\n",
            "difference:  4.1666665157267834e-08\n"
          ]
        }
      ],
      "source": [
        "x_shape = (2, 3, 4, 4)\n",
        "x = np.linspace(-0.3, 0.4, num=np.prod(x_shape)).reshape(x_shape)\n",
        "pool_param = {'pool_height': 2, 'pool_width': 2, 'stride': 2}\n",
        "\n",
        "out, _ = max_pool_forward_naive(x, pool_param)\n",
        "\n",
        "correct_out = np.array([[[[-0.26315789, -0.24842105],\n",
        "                          [-0.20421053, -0.18947368]],\n",
        "                         [[-0.14526316, -0.13052632],\n",
        "                          [-0.08631579, -0.07157895]],\n",
        "                         [[-0.02736842, -0.01263158],\n",
        "                          [ 0.03157895,  0.04631579]]],\n",
        "                        [[[ 0.09052632,  0.10526316],\n",
        "                          [ 0.14947368,  0.16421053]],\n",
        "                         [[ 0.20842105,  0.22315789],\n",
        "                          [ 0.26736842,  0.28210526]],\n",
        "                         [[ 0.32631579,  0.34105263],\n",
        "                          [ 0.38526316,  0.4       ]]]])\n",
        "\n",
        "# Compare your output with ours. Difference should be around 1e-8.\n",
        "print ('Testing max_pool_forward_naive function:')\n",
        "print ('difference: ', rel_error(out, correct_out))"
      ]
    },
    {
      "cell_type": "markdown",
      "metadata": {
        "id": "i8zl-KYrcWko"
      },
      "source": [
        "## Max pooling: Naive backward\n",
        "In `deeplearning/layers.py`, implement the backpropagation for the max pooling layer in the function `max_pool_backward_naive`."
      ]
    },
    {
      "cell_type": "code",
      "source": [
        "x = np.random.randn(10, 3, 8, 7)\n",
        "pool_param = {'pool_height': 2, 'pool_width': 3, 'stride': 2}\n",
        "dout = np.random.randn(10, 3, 4, 3)\n",
        "out, cache = max_pool_forward_naive(x, pool_param)\n",
        "dx = max_pool_backward_naive(dout, cache)\n",
        "dx_num = eval_numerical_gradient_array(lambda xx: max_pool_forward_naive(xx, pool_param)[0], x, dout)\n",
        "\n",
        "print ('dx relative error: ', rel_error(dx, dx_num))"
      ],
      "metadata": {
        "colab": {
          "base_uri": "https://localhost:8080/"
        },
        "outputId": "175520e7-11ed-4df0-e098-43bb67ba4d5b",
        "id": "vwoZqG-7cpWa"
      },
      "execution_count": 12,
      "outputs": [
        {
          "output_type": "stream",
          "name": "stdout",
          "text": [
            "dx relative error:  3.278033369970776e-12\n"
          ]
        }
      ]
    },
    {
      "cell_type": "markdown",
      "metadata": {
        "id": "iYR90W4vZDkl"
      },
      "source": [
        "## Convolutional \"sandwich\" layers\n",
        "Previously we introduced the concept of \"sandwich\" layers that combine multiple operations into commonly used patterns. In the file `deeplearning/layer_utils.py` you will find sandwich layers that implement a few commonly used patterns for convolutional networks.\n",
        "\n",
        "The gradient check below will take 45s~1min30s depending on the efficiency of your code."
      ]
    },
    {
      "cell_type": "code",
      "execution_count": 13,
      "metadata": {
        "id": "fXNVN85sZDkm",
        "colab": {
          "base_uri": "https://localhost:8080/"
        },
        "outputId": "7988a643-c637-4214-e999-adf0f1da1312"
      },
      "outputs": [
        {
          "output_type": "stream",
          "name": "stdout",
          "text": [
            "Testing conv_relu_pool\n",
            "dx error:  1.944281735010933e-08\n",
            "dw error:  8.029603370317164e-09\n",
            "db error:  6.261784927096412e-11\n"
          ]
        }
      ],
      "source": [
        "from deeplearning.layer_utils import conv_relu_pool_forward, conv_relu_pool_backward\n",
        "\n",
        "x = np.random.randn(2, 3, 16, 16)\n",
        "w = np.random.randn(3, 3, 3, 3)\n",
        "b = np.random.randn(3,)\n",
        "dout = np.random.randn(2, 3, 8, 8)\n",
        "conv_param = {'stride': 1, 'pad': 1}\n",
        "pool_param = {'pool_height': 2, 'pool_width': 2, 'stride': 2}\n",
        "\n",
        "out, cache = conv_relu_pool_forward(x, w, b, conv_param, pool_param)\n",
        "dx, dw, db = conv_relu_pool_backward(dout, cache)\n",
        "\n",
        "dx_num = eval_numerical_gradient_array(lambda x: conv_relu_pool_forward(x, w, b, conv_param, pool_param)[0], x, dout)\n",
        "dw_num = eval_numerical_gradient_array(lambda w: conv_relu_pool_forward(x, w, b, conv_param, pool_param)[0], w, dout)\n",
        "db_num = eval_numerical_gradient_array(lambda b: conv_relu_pool_forward(x, w, b, conv_param, pool_param)[0], b, dout)\n",
        "\n",
        "print ('Testing conv_relu_pool')\n",
        "print ('dx error: ', rel_error(dx_num, dx))\n",
        "print ('dw error: ', rel_error(dw_num, dw))\n",
        "print ('db error: ', rel_error(db_num, db))"
      ]
    },
    {
      "cell_type": "markdown",
      "metadata": {
        "id": "d-QHsYJCZDkm"
      },
      "source": [
        "## Three-layer ConvNet\n",
        "Now that you have implemented all the necessary layers, we can put them together into a simple convolutional network.\n",
        "\n",
        "Open the file `deeplearning/classifiers/cnn.py` and complete the implementation of the `ThreeLayerConvNet` class. Run the following cells to help you debug:"
      ]
    },
    {
      "cell_type": "markdown",
      "metadata": {
        "id": "4NPyyrUrZDkm"
      },
      "source": [
        "### Sanity check loss\n",
        "After you build a new network, one of the first things you should do is sanity check the loss. When we use the softmax loss, we expect the loss for random weights (and no regularization) to be about `log(C)` for `C` classes. When we add regularization this should go up."
      ]
    },
    {
      "cell_type": "markdown",
      "metadata": {
        "id": "-xI5-lKiZDkm"
      },
      "source": [
        "### Gradient check\n",
        "After the loss looks reasonable, use numeric gradient checking to make sure that your backward pass is correct. When you use numeric gradient checking you should use a small amount of artifical data and a small number of neurons at each layer."
      ]
    },
    {
      "cell_type": "code",
      "execution_count": 14,
      "metadata": {
        "id": "S7cNYlkPZDkm",
        "colab": {
          "base_uri": "https://localhost:8080/"
        },
        "outputId": "45680c78-40fe-421b-f661-28a83f7ae296"
      },
      "outputs": [
        {
          "output_type": "stream",
          "name": "stdout",
          "text": [
            "Initial loss (no regularization):  2.302585138003613\n",
            "Initial loss (with regularization):  2.321814699760742\n"
          ]
        }
      ],
      "source": [
        "from deeplearning.classifiers.cnn import ThreeLayerConvNet\n",
        "\n",
        "np.random.seed(seed)\n",
        "model = ThreeLayerConvNet(num_filters=3, filter_size=1)\n",
        "\n",
        "N = 50\n",
        "X = np.random.randn(N, 3, 32, 32)\n",
        "y = np.random.randint(10, size=N)\n",
        "\n",
        "loss, grads = model.loss(X, y)\n",
        "print ('Initial loss (no regularization): ', loss)\n",
        "# expected: (approx.) 2.302585092994046\n",
        "\n",
        "model.reg = 0.5\n",
        "loss, grads = model.loss(X, y)\n",
        "print ('Initial loss (with regularization): ', loss)\n",
        "# expected: (approx.) 2.322037342994046"
      ]
    },
    {
      "cell_type": "markdown",
      "source": [
        "The following gradient check will take 1min30s to 3min to run. The max relative error of every parameter tensor should be less than `1e-2`."
      ],
      "metadata": {
        "id": "W2tEbHJtiI2E"
      }
    },
    {
      "cell_type": "code",
      "execution_count": 15,
      "metadata": {
        "id": "hI6Wr-ibZDkm",
        "colab": {
          "base_uri": "https://localhost:8080/"
        },
        "outputId": "6937dda6-672b-4e07-afe4-15f40c77c2db"
      },
      "outputs": [
        {
          "output_type": "stream",
          "name": "stdout",
          "text": [
            "W1 max relative error: 6.996780e-05\n",
            "W2 max relative error: 1.827179e-03\n",
            "W3 max relative error: 1.941106e-03\n",
            "b1 max relative error: 9.828774e-07\n",
            "b2 max relative error: 4.721508e-08\n",
            "b3 max relative error: 1.270831e-09\n"
          ]
        }
      ],
      "source": [
        "num_inputs = 5\n",
        "input_dim = (3, 12, 12)\n",
        "reg = 0.0\n",
        "num_classes = 10\n",
        "np.random.seed(seed)\n",
        "X = np.random.randn(num_inputs, *input_dim)\n",
        "y = np.random.randint(num_classes, size=num_inputs)\n",
        "\n",
        "model = ThreeLayerConvNet(num_filters=3, filter_size=3,\n",
        "                          input_dim=input_dim, hidden_dim=7,\n",
        "                          weight_scale=0.01, reg=0.001, dtype=np.float64)\n",
        "loss, grads = model.loss(X, y)\n",
        "for param_name in sorted(grads):\n",
        "    f = lambda _: model.loss(X, y)[0]\n",
        "    param_grad_num = eval_numerical_gradient(f, model.params[param_name], verbose=False, h=1e-6)\n",
        "    e = rel_error(param_grad_num, grads[param_name])\n",
        "    print ('%s max relative error: %e' % (param_name, rel_error(param_grad_num, grads[param_name])))"
      ]
    },
    {
      "cell_type": "markdown",
      "metadata": {
        "id": "crnE3zX3ZDkn"
      },
      "source": [
        "# Spatial Batch Normalization\n",
        "We already saw that batch normalization is a very useful technique for training deep fully-connected networks. Batch normalization can also be used for convolutional networks, but we need to tweak it a bit; the modification will be called \"spatial batch normalization.\"\n",
        "\n",
        "Normally batch-normalization accepts inputs of shape `(N, D)` and produces outputs of shape `(N, D)`, where we normalize across the minibatch dimension `N`. For data coming from convolutional layers, batch normalization needs to accept inputs of shape `(N, C, H, W)` and produce outputs of shape `(N, C, H, W)` where the `N` dimension gives the minibatch size and the `(H, W)` dimensions give the spatial size of the feature map.\n",
        "\n",
        "If the feature map was produced using convolutions, then we expect the statistics of each feature channel to be relatively consistent both between different imagesand different locations within the same image. Therefore spatial batch normalization computes a mean and variance for each of the `C` feature channels by computing statistics over both the minibatch dimension `N` and the spatial dimensions `H` and `W`."
      ]
    },
    {
      "cell_type": "markdown",
      "metadata": {
        "id": "_5cx3VtJZDkn"
      },
      "source": [
        "## Spatial batch normalization: forward\n",
        "\n",
        "In the file `deeplearning/layers.py`, implement the forward pass for spatial batch normalization in the function `spatial_batchnorm_forward`. Check your implementation by running the following:"
      ]
    },
    {
      "cell_type": "code",
      "execution_count": 16,
      "metadata": {
        "id": "p1AwVc0QZDkn",
        "colab": {
          "base_uri": "https://localhost:8080/"
        },
        "outputId": "e1292ca0-916e-4927-c613-fefce2af825a"
      },
      "outputs": [
        {
          "output_type": "stream",
          "name": "stdout",
          "text": [
            "Before spatial batch normalization:\n",
            "  Shape:  (2, 3, 4, 5)\n",
            "  Means:  [10.45804384 10.31076584  8.93075534]\n",
            "  Stds:  [3.6806245  3.85854955 3.47338585]\n",
            "After spatial batch normalization:\n",
            "  Shape:  (2, 3, 4, 5)\n",
            "  Means:  [-3.41393580e-16 -5.55111512e-17 -3.05311332e-16]\n",
            "  Stds:  [0.99999963 0.99999966 0.99999959]\n",
            "After spatial batch normalization (nontrivial gamma, beta):\n",
            "  Shape:  (2, 3, 4, 5)\n",
            "  Means:  [6. 7. 8.]\n",
            "  Stds:  [2.99999889 3.99999866 4.99999793]\n"
          ]
        }
      ],
      "source": [
        "# Check the training-time forward pass by checking means and variances\n",
        "# of features both before and after spatial batch normalization\n",
        "N, C, H, W = 2, 3, 4, 5\n",
        "x = 4 * np.random.randn(N, C, H, W) + 10\n",
        "\n",
        "print ('Before spatial batch normalization:')\n",
        "print ('  Shape: ', x.shape)\n",
        "print ('  Means: ', x.mean(axis=(0, 2, 3)))\n",
        "print ('  Stds: ', x.std(axis=(0, 2, 3)))\n",
        "\n",
        "# Means should be close to zero and stds close to one. Shape should be unchanged.\n",
        "gamma, beta = np.ones(C), np.zeros(C)\n",
        "bn_param = {'mode': 'train'}\n",
        "out, _ = spatial_batchnorm_forward(x, gamma, beta, bn_param)\n",
        "print ('After spatial batch normalization:')\n",
        "print ('  Shape: ', out.shape)\n",
        "print ('  Means: ', out.mean(axis=(0, 2, 3)))\n",
        "print ('  Stds: ', out.std(axis=(0, 2, 3)))\n",
        "\n",
        "# Means should be close to beta and stds close to gamma. Shape should be unchnaged.\n",
        "gamma, beta = np.asarray([3, 4, 5]), np.asarray([6, 7, 8])\n",
        "out, _ = spatial_batchnorm_forward(x, gamma, beta, bn_param)\n",
        "print ('After spatial batch normalization (nontrivial gamma, beta):')\n",
        "print ('  Shape: ', out.shape)\n",
        "print ('  Means: ', out.mean(axis=(0, 2, 3)))\n",
        "print ('  Stds: ', out.std(axis=(0, 2, 3)))"
      ]
    },
    {
      "cell_type": "code",
      "execution_count": 17,
      "metadata": {
        "id": "Xx9Vd2I6ZDko",
        "colab": {
          "base_uri": "https://localhost:8080/"
        },
        "outputId": "221dd331-4726-4eda-ed7f-c4e6940ae33f"
      },
      "outputs": [
        {
          "output_type": "stream",
          "name": "stdout",
          "text": [
            "After spatial batch normalization (test-time):\n",
            "  means:  [ 0.04195664  0.04227708 -0.06255247  0.04682065]\n",
            "  stds:  [0.9992673  0.99157656 1.00919525 1.01471129]\n"
          ]
        }
      ],
      "source": [
        "# Check the test-time forward pass by running the training-time\n",
        "# forward pass many times to warm up the running averages, and then\n",
        "# checking the means and variances of activations after a test-time\n",
        "# forward pass.\n",
        "\n",
        "N, C, H, W = 10, 4, 11, 12\n",
        "\n",
        "bn_param = {'mode': 'train'}\n",
        "gamma = np.ones(C)\n",
        "beta = np.zeros(C)\n",
        "for t in range(50):\n",
        "    x = 2.3 * np.random.randn(N, C, H, W) + 13\n",
        "    spatial_batchnorm_forward(x, gamma, beta, bn_param)\n",
        "bn_param['mode'] = 'test'\n",
        "x = 2.3 * np.random.randn(N, C, H, W) + 13\n",
        "a_norm, _ = spatial_batchnorm_forward(x, gamma, beta, bn_param)\n",
        "\n",
        "# Means should be close to zero and stds close to one, but will be\n",
        "# noisier than training-time forward passes.\n",
        "print ('After spatial batch normalization (test-time):')\n",
        "print ('  means: ', a_norm.mean(axis=(0, 2, 3)))\n",
        "print ('  stds: ', a_norm.std(axis=(0, 2, 3)))"
      ]
    },
    {
      "cell_type": "markdown",
      "metadata": {
        "id": "TUuSovfRZDko"
      },
      "source": [
        "## Spatial batch normalization: backward\n",
        "In the file `deeplearning/layers.py`, implement the backward pass for spatial batch normalization in the function `spatial_batchnorm_backward`. Run the following to check your implementation using a numeric gradient check:"
      ]
    },
    {
      "cell_type": "code",
      "execution_count": 18,
      "metadata": {
        "id": "PHXMs7nNZDko",
        "colab": {
          "base_uri": "https://localhost:8080/"
        },
        "outputId": "a52c1e54-066b-4a5d-f2de-223a4fb25dc9"
      },
      "outputs": [
        {
          "output_type": "stream",
          "name": "stdout",
          "text": [
            "dx error:  1.974533004679322e-07\n",
            "dgamma error:  1.9858040892788323e-12\n",
            "dbeta error:  6.3951994773115035e-12\n"
          ]
        }
      ],
      "source": [
        "N, C, H, W = 2, 3, 4, 5\n",
        "x = 5 * np.random.randn(N, C, H, W) + 12\n",
        "gamma = np.random.randn(C)\n",
        "beta = np.random.randn(C)\n",
        "dout = np.random.randn(N, C, H, W)\n",
        "\n",
        "bn_param = {'mode': 'train'}\n",
        "fx = lambda x: spatial_batchnorm_forward(x, gamma, beta, bn_param)[0]\n",
        "fg = lambda a: spatial_batchnorm_forward(x, gamma, beta, bn_param)[0]\n",
        "fb = lambda b: spatial_batchnorm_forward(x, gamma, beta, bn_param)[0]\n",
        "\n",
        "dx_num = eval_numerical_gradient_array(fx, x, dout)\n",
        "da_num = eval_numerical_gradient_array(fg, gamma, dout)\n",
        "db_num = eval_numerical_gradient_array(fb, beta, dout)\n",
        "\n",
        "_, cache = spatial_batchnorm_forward(x, gamma, beta, bn_param)\n",
        "dx, dgamma, dbeta = spatial_batchnorm_backward(dout, cache)\n",
        "print ('dx error: ', rel_error(dx_num, dx))\n",
        "print ('dgamma error: ', rel_error(da_num, dgamma))\n",
        "print ('dbeta error: ', rel_error(db_num, dbeta))"
      ]
    }
  ],
  "metadata": {
    "kernelspec": {
      "display_name": "Python 3.8.13 ('hw3')",
      "language": "python",
      "name": "python3"
    },
    "language_info": {
      "codemirror_mode": {
        "name": "ipython",
        "version": 3
      },
      "file_extension": ".py",
      "mimetype": "text/x-python",
      "name": "python",
      "nbconvert_exporter": "python",
      "pygments_lexer": "ipython3",
      "version": "3.8.13"
    },
    "vscode": {
      "interpreter": {
        "hash": "dad0cb719410d80ddfd601aac97c786f16717fe3c155f75a38a62246744ec8e1"
      }
    },
    "colab": {
      "provenance": []
    },
    "gpuClass": "standard"
  },
  "nbformat": 4,
  "nbformat_minor": 0
}